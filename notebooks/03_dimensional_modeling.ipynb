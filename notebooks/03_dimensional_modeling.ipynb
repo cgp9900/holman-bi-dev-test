{
 "cells": [
  {
   "cell_type": "markdown",
   "metadata": {},
   "source": [
    "## Building a Data Model - Star Schema\n",
    "\n",
    "Note, this would be better managed in a \"gold\" directory as a .py file, but I am housing it here so it is more easily readable and consolidated with the other notebooks."
   ]
  },
  {
   "cell_type": "code",
   "execution_count": 1,
   "metadata": {},
   "outputs": [
    {
     "name": "stderr",
     "output_type": "stream",
     "text": [
      "/Users/coleparker/Documents/holman-bi-dev-test/venv/lib/python3.10/site-packages/fuzzywuzzy/fuzz.py:11: UserWarning: Using slow pure-python SequenceMatcher. Install python-Levenshtein to remove this warning\n",
      "  warnings.warn('Using slow pure-python SequenceMatcher. Install python-Levenshtein to remove this warning')\n",
      "25/01/16 07:18:07 WARN Utils: Your hostname, Coles-MacBook-Pro.local resolves to a loopback address: 127.0.0.1; using 10.0.0.235 instead (on interface en0)\n",
      "25/01/16 07:18:07 WARN Utils: Set SPARK_LOCAL_IP if you need to bind to another address\n",
      "Setting default log level to \"WARN\".\n",
      "To adjust logging level use sc.setLogLevel(newLevel). For SparkR, use setLogLevel(newLevel).\n",
      "25/01/16 07:18:08 WARN NativeCodeLoader: Unable to load native-hadoop library for your platform... using builtin-java classes where applicable\n",
      "25/01/16 07:18:10 WARN Utils: Service 'SparkUI' could not bind on port 4040. Attempting port 4041.\n",
      "25/01/16 07:18:10 WARN Utils: Service 'SparkUI' could not bind on port 4041. Attempting port 4042.\n",
      "                                                                                \r"
     ]
    }
   ],
   "source": [
    "# Reading in combined data for us to separate out\n",
    "import os \n",
    "\n",
    "# Move the execution of the folder up one directory\n",
    "os.chdir('..')\n",
    "\n",
    "from pyspark.sql import SparkSession\n",
    "from etl.read_normalize import ingest_parquet\n",
    "from pyspark.sql.functions import monotonically_increasing_id, trim\n",
    "\n",
    "spark = SparkSession.builder.appName(\"OlympicCountryDataPipeline\").getOrCreate()\n",
    "\n",
    "df_denormalized = ingest_parquet(\n",
    "    input_path = \"datasets/countries_olympics_join.parquet\"\n",
    "    , spark = spark\n",
    ")"
   ]
  },
  {
   "cell_type": "code",
   "execution_count": 2,
   "metadata": {},
   "outputs": [
    {
     "name": "stderr",
     "output_type": "stream",
     "text": [
      "25/01/16 07:18:20 WARN SparkStringUtils: Truncated the string representation of a plan since it was too large. This behavior can be adjusted by setting 'spark.sql.debug.maxToStringFields'.\n",
      "                                                                                \r"
     ]
    },
    {
     "name": "stdout",
     "output_type": "stream",
     "text": [
      "+------------+----+------+------+-----+----+------------+--------------------+-----------+----------+---------------------+--------------------------+-------------+--------------------------------+--------------+----------------+---------------+--------------+-------------+-------------+-------+---------+---------+-----------+--------+-------+\n",
      "|Country_Code|Gold|Silver|Bronze|Total|Year|Country_Name|              Region| Population|Area_sq_mi|Pop_Density_per_sq_mi|Coastline_coast_area_ratio|Net_migration|Infant_mortality_per_1000_births|GDP_per_capita|Literacy_percent|Phones_per_1000|Arable_percent|Crops_percent|Other_percent|Climate|Birthrate|Deathrate|Agriculture|Industry|Service|\n",
      "+------------+----+------+------+-----+----+------------+--------------------+-----------+----------+---------------------+--------------------------+-------------+--------------------------------+--------------+----------------+---------------+--------------+-------------+-------------+-------+---------+---------+-----------+--------+-------+\n",
      "|         DOM|   1|     0|     0|    1|2004|   Dominica |LATIN AMER. & CAR...|    68910.0|     754.0|                 91.4|                     19.63|       -13.87|                           14.15|        5400.0|            94.0|          304.8|          6.67|         20.0|        73.33|    2.0|    15.27|     6.73|       0.18|    0.33|    0.5|\n",
      "|         DOM|   0|     0|     1|    1|2016|   Dominica |LATIN AMER. & CAR...|    68910.0|     754.0|                 91.4|                     19.63|       -13.87|                           14.15|        5400.0|            94.0|          304.8|          6.67|         20.0|        73.33|    2.0|    15.27|     6.73|       0.18|    0.33|    0.5|\n",
      "|         DOM|   1|     1|     0|    2|2012|   Dominica |LATIN AMER. & CAR...|    68910.0|     754.0|                 91.4|                     19.63|       -13.87|                           14.15|        5400.0|            94.0|          304.8|          6.67|         20.0|        73.33|    2.0|    15.27|     6.73|       0.18|    0.33|    0.5|\n",
      "|         DOM|   1|     0|     1|    2|2024|   Dominica |LATIN AMER. & CAR...|    68910.0|     754.0|                 91.4|                     19.63|       -13.87|                           14.15|        5400.0|            94.0|          304.8|          6.67|         20.0|        73.33|    2.0|    15.27|     6.73|       0.18|    0.33|    0.5|\n",
      "|         DOM|   0|     3|     2|    5|2020|   Dominica |LATIN AMER. & CAR...|    68910.0|     754.0|                 91.4|                     19.63|       -13.87|                           14.15|        5400.0|            94.0|          304.8|          6.67|         20.0|        73.33|    2.0|    15.27|     6.73|       0.18|    0.33|    0.5|\n",
      "|         ECU|   1|     0|     0|    1|1996|    Ecuador |LATIN AMER. & CAR...| 1.354751E7|  283560.0|                 47.8|                      0.79|        -8.58|                           23.66|        3300.0|            92.5|          125.6|          5.85|         4.93|        89.22|    2.0|    22.29|     4.23|       0.07|    0.31|   0.62|\n",
      "|         ECU|   1|     2|     2|    5|2024|    Ecuador |LATIN AMER. & CAR...| 1.354751E7|  283560.0|                 47.8|                      0.79|        -8.58|                           23.66|        3300.0|            92.5|          125.6|          5.85|         4.93|        89.22|    2.0|    22.29|     4.23|       0.07|    0.31|   0.62|\n",
      "|         ECU|   2|     1|     0|    3|2020|    Ecuador |LATIN AMER. & CAR...| 1.354751E7|  283560.0|                 47.8|                      0.79|        -8.58|                           23.66|        3300.0|            92.5|          125.6|          5.85|         4.93|        89.22|    2.0|    22.29|     4.23|       0.07|    0.31|   0.62|\n",
      "|         EGY|   1|     1|     3|    5|2004|      Egypt |NORTHERN AFRICA  ...|7.8887007E7| 1001450.0|                 78.8|                      0.24|        -0.22|                           32.59|        4000.0|            57.7|          131.8|          2.87|         0.48|        96.65|    1.0|    22.94|     5.23|       0.15|    0.36|   0.49|\n",
      "|         EGY|   0|     0|     3|    3|2016|      Egypt |NORTHERN AFRICA  ...|7.8887007E7| 1001450.0|                 78.8|                      0.24|        -0.22|                           32.59|        4000.0|            57.7|          131.8|          2.87|         0.48|        96.65|    1.0|    22.94|     5.23|       0.15|    0.36|   0.49|\n",
      "+------------+----+------+------+-----+----+------------+--------------------+-----------+----------+---------------------+--------------------------+-------------+--------------------------------+--------------+----------------+---------------+--------------+-------------+-------------+-------+---------+---------+-----------+--------+-------+\n",
      "only showing top 10 rows\n",
      "\n"
     ]
    }
   ],
   "source": [
    "df_denormalized.show(10)"
   ]
  },
  {
   "cell_type": "markdown",
   "metadata": {},
   "source": [
    "## Creating Star Schema Tables - Olympics & Countries\n",
    "\n",
    "We will first focus on creating fact and dimemnsion tables with our olympics and countries dataset. I am starting with the denormalized table to show the most steps in taking a very wide table and transforming into a star schema structure."
   ]
  },
  {
   "cell_type": "code",
   "execution_count": 3,
   "metadata": {},
   "outputs": [],
   "source": [
    "# sequence of dimension tables - starting with countries.\n",
    "\n",
    "dim_country_df = df_denormalized.select(\n",
    "    \"Country_Code\", \n",
    "    \"Country_Name\", \n",
    "    \"Population\", \n",
    "    \"Area_sq_mi\", \n",
    "    \"Pop_Density_per_sq_mi\",\n",
    "    \"Coastline_coast_area_ratio\",\n",
    "    \"Net_migration\",\n",
    "    \"Infant_mortality_per_1000_births\",\n",
    "    \"GDP_per_capita\",\n",
    "    \"Literacy_percent\",\n",
    "    \"Phones_per_1000\",\n",
    "    \"Arable_percent\",\n",
    "    \"Crops_percent\",\n",
    "    \"Other_percent\",\n",
    "    \"Climate\",\n",
    "    \"Birthrate\",\n",
    "    \"Deathrate\",\n",
    "    \"Agriculture\",\n",
    "    \"Industry\",\n",
    "    \"Service\").distinct()\n",
    "\n",
    "# Generating a unique ID for each region to sit as its own dimension table!\n",
    "dim_region_df = (df_denormalized.select(\"Region\")\n",
    "                 .distinct()\n",
    "                 .withColumn(\"Region_ID\", monotonically_increasing_id())\n",
    "                 )\n",
    "\n",
    "# Creating our fact_table to use our ID columns. Any columns that will act as \n",
    "# foreign keys (such as region) are converted to the proper ID. The other dimension\n",
    "# attributes are dropped. \n",
    "fact_olympics = (df_denormalized\n",
    "                   .join(dim_region_df, on = \"Region\", how = \"inner\")\n",
    "                   ).drop(\"Region\", \"Country_Name\", \"Population\", \"Area_sq_mi\", \\\n",
    "                    \"Pop_Density_per_sq_mi\", \"Coastline_coast_area_ratio\", \"Net_migration\", \\\n",
    "                    \"Infant_mortality_per_1000_births\", \"GDP_per_capita\", \"Literacy_percent\", \\\n",
    "                    \"Phones_per_1000\", \"Arable_percent\", \"Crops_percent\", \"Other_percent\", \\\n",
    "                    \"Climate\", \"Birthrate\", \"Deathrate\", \"Agriculture\", \"Industry\",\"Service\")\n",
    "\n"
   ]
  },
  {
   "cell_type": "code",
   "execution_count": 4,
   "metadata": {},
   "outputs": [
    {
     "name": "stdout",
     "output_type": "stream",
     "text": [
      "+--------------------+---------+\n",
      "|              Region|Region_ID|\n",
      "+--------------------+---------+\n",
      "|BALTICS          ...|        0|\n",
      "|C.W. OF IND. STATES |        1|\n",
      "|ASIA (EX. NEAR EA...|        2|\n",
      "|WESTERN EUROPE   ...|        3|\n",
      "|NEAR EAST        ...|        4|\n",
      "|EASTERN EUROPE   ...|        5|\n",
      "|OCEANIA          ...|        6|\n",
      "|SUB-SAHARAN AFRIC...|        7|\n",
      "|NORTHERN AFRICA  ...|        8|\n",
      "|LATIN AMER. & CAR...|        9|\n",
      "|NORTHERN AMERICA ...|       10|\n",
      "+--------------------+---------+\n",
      "\n"
     ]
    }
   ],
   "source": [
    "dim_region_df.show()"
   ]
  },
  {
   "cell_type": "markdown",
   "metadata": {},
   "source": [
    "Printing out the schema of our fact and dimension tables so we can see how they would join! In this example, the Region_ID could join the fact olympics table to the region dimension. Also, the Country_Code acts as a primary key of the country dimension and joins to the fact olympics table. "
   ]
  },
  {
   "cell_type": "code",
   "execution_count": 22,
   "metadata": {},
   "outputs": [
    {
     "name": "stdout",
     "output_type": "stream",
     "text": [
      "Fact - Olympics\n",
      "root\n",
      " |-- Country_Code: string (nullable = true)\n",
      " |-- Gold: integer (nullable = true)\n",
      " |-- Silver: integer (nullable = true)\n",
      " |-- Bronze: integer (nullable = true)\n",
      " |-- Total: integer (nullable = true)\n",
      " |-- Year: string (nullable = true)\n",
      " |-- Region_ID: long (nullable = false)\n",
      "\n",
      "Dim - Region\n",
      "root\n",
      " |-- Region: string (nullable = true)\n",
      " |-- Region_ID: long (nullable = false)\n",
      "\n",
      "Dim - Country\n",
      "root\n",
      " |-- Country_Code: string (nullable = true)\n",
      " |-- Country_Name: string (nullable = true)\n",
      " |-- Population: double (nullable = true)\n",
      " |-- Area_sq_mi: double (nullable = true)\n",
      " |-- Pop_Density_per_sq_mi: double (nullable = true)\n",
      " |-- Coastline_coast_area_ratio: double (nullable = true)\n",
      " |-- Net_migration: double (nullable = true)\n",
      " |-- Infant_mortality_per_1000_births: double (nullable = true)\n",
      " |-- GDP_per_capita: double (nullable = true)\n",
      " |-- Literacy_percent: double (nullable = true)\n",
      " |-- Phones_per_1000: double (nullable = true)\n",
      " |-- Arable_percent: double (nullable = true)\n",
      " |-- Crops_percent: double (nullable = true)\n",
      " |-- Other_percent: double (nullable = true)\n",
      " |-- Climate: double (nullable = true)\n",
      " |-- Birthrate: double (nullable = true)\n",
      " |-- Deathrate: double (nullable = true)\n",
      " |-- Agriculture: double (nullable = true)\n",
      " |-- Industry: double (nullable = true)\n",
      " |-- Service: double (nullable = true)\n",
      "\n"
     ]
    }
   ],
   "source": [
    "print(\"Fact - Olympics\")\n",
    "fact_olympics.printSchema()\n",
    "\n",
    "print(\"Dim - Region\")\n",
    "dim_region_df.printSchema()\n",
    "\n",
    "print(\"Dim - Country\")\n",
    "dim_country_df.printSchema()"
   ]
  },
  {
   "cell_type": "markdown",
   "metadata": {},
   "source": [
    "## Adding More Fact & Dimension Tables"
   ]
  },
  {
   "cell_type": "markdown",
   "metadata": {},
   "source": [
    "#### Reading in our data\n",
    "\n",
    "I choose to read in the country age and country crime index datasets. Note that these will also have primary keys of Country_Code and can be joined to our fact olympics table."
   ]
  },
  {
   "cell_type": "code",
   "execution_count": 5,
   "metadata": {},
   "outputs": [
    {
     "name": "stdout",
     "output_type": "stream",
     "text": [
      "+--------+-----------------+------------------+------------------+\n",
      "| Country|Age 0 to 14 Years|Age 15 to 64 Years|Age above 65 Years|\n",
      "+--------+-----------------+------------------+------------------+\n",
      "|   Japan|           12.90%|            60.10%|               27%|\n",
      "|   Italy|           13.50%|            63.50%|               23%|\n",
      "|Portugal|           13.60%|            64.90%|               22%|\n",
      "| Germany|           13.10%|            65.50%|               22%|\n",
      "| Finland|           16.40%|            62.40%|               21%|\n",
      "|Bulgaria|           14.20%|            65.00%|               21%|\n",
      "|  Greece|           14.20%|            65.40%|               20%|\n",
      "|  Sweden|           17.50%|            62.50%|               20%|\n",
      "|  Latvia|           15.40%|            64.80%|               20%|\n",
      "| Denmark|           16.50%|            63.80%|               20%|\n",
      "+--------+-----------------+------------------+------------------+\n",
      "only showing top 10 rows\n",
      "\n",
      "+-------------------+-----------+------------+\n",
      "|            Country|Crime Index|Safety Index|\n",
      "+-------------------+-----------+------------+\n",
      "|          Venezuela|      84.49|       15.51|\n",
      "|   Papua New Guinea|      81.93|       18.07|\n",
      "|       South Africa|      77.49|       22.51|\n",
      "|        Afghanistan|      76.23|       23.77|\n",
      "|           Honduras|      76.11|       23.89|\n",
      "|Trinidad And Tobago|      73.19|       26.81|\n",
      "|             Brazil|      68.88|       31.12|\n",
      "|               Peru|      68.15|       31.85|\n",
      "|        El Salvador|      67.96|       32.04|\n",
      "|             Guyana|      67.66|       32.34|\n",
      "+-------------------+-----------+------------+\n",
      "only showing top 10 rows\n",
      "\n"
     ]
    }
   ],
   "source": [
    "df_age = spark.read.csv(\n",
    "    \"datasets/countries_health/Coutries age structure.csv\",  \n",
    "    header=True,              \n",
    "    inferSchema=True         \n",
    ")\n",
    "\n",
    "df_crime = spark.read.csv(\n",
    "    \"datasets/countries_health/Crime index by countries 2020.csv\",  \n",
    "    header=True,              \n",
    "    inferSchema=True         \n",
    ")\n",
    "\n",
    "df_age.show(10)\n",
    "df_crime.show(10)"
   ]
  },
  {
   "cell_type": "markdown",
   "metadata": {},
   "source": [
    "#### Creating our dimension tables to add to star schema"
   ]
  },
  {
   "cell_type": "code",
   "execution_count": 6,
   "metadata": {},
   "outputs": [],
   "source": [
    "dim_age = (df_age\n",
    "           .join(dim_country_df, trim(df_age[\"Country\"]) == trim(dim_country_df[\"Country_Name\"]), how = \"inner\")\n",
    "           ).select(\"Country_Code\", \"Age 0 to 14 Years\", \"Age 15 to 64 Years\", \"Age above 65 Years\")\n",
    "\n",
    "dim_crime = (df_crime\n",
    "           .join(dim_country_df, trim(df_crime[\"Country\"]) == trim(dim_country_df[\"Country_Name\"]), how = \"inner\")\n",
    "           ).select(\"Country_Code\", \"Crime Index\", \"Safety Index\")"
   ]
  },
  {
   "cell_type": "markdown",
   "metadata": {},
   "source": [
    "Note: In our final star schema, since all of the data we have is around countries, the country code is the unique ID that is used to join our tables through primary and foreign keys. In our final structure, the region dimension can be joined to the fact table through the Region_ID and all other dimensions can be joined to the fact table through the Country_Code. "
   ]
  },
  {
   "cell_type": "code",
   "execution_count": 41,
   "metadata": {},
   "outputs": [
    {
     "name": "stdout",
     "output_type": "stream",
     "text": [
      "Fact - Olympics\n",
      "root\n",
      " |-- Country_Code: string (nullable = true)\n",
      " |-- Gold: integer (nullable = true)\n",
      " |-- Silver: integer (nullable = true)\n",
      " |-- Bronze: integer (nullable = true)\n",
      " |-- Total: integer (nullable = true)\n",
      " |-- Year: string (nullable = true)\n",
      " |-- Region_ID: long (nullable = false)\n",
      "\n",
      "Dim - Region\n",
      "root\n",
      " |-- Region: string (nullable = true)\n",
      " |-- Region_ID: long (nullable = false)\n",
      "\n",
      "Dim - Country\n",
      "root\n",
      " |-- Country_Code: string (nullable = true)\n",
      " |-- Country_Name: string (nullable = true)\n",
      " |-- Population: double (nullable = true)\n",
      " |-- Area_sq_mi: double (nullable = true)\n",
      " |-- Pop_Density_per_sq_mi: double (nullable = true)\n",
      " |-- Coastline_coast_area_ratio: double (nullable = true)\n",
      " |-- Net_migration: double (nullable = true)\n",
      " |-- Infant_mortality_per_1000_births: double (nullable = true)\n",
      " |-- GDP_per_capita: double (nullable = true)\n",
      " |-- Literacy_percent: double (nullable = true)\n",
      " |-- Phones_per_1000: double (nullable = true)\n",
      " |-- Arable_percent: double (nullable = true)\n",
      " |-- Crops_percent: double (nullable = true)\n",
      " |-- Other_percent: double (nullable = true)\n",
      " |-- Climate: double (nullable = true)\n",
      " |-- Birthrate: double (nullable = true)\n",
      " |-- Deathrate: double (nullable = true)\n",
      " |-- Agriculture: double (nullable = true)\n",
      " |-- Industry: double (nullable = true)\n",
      " |-- Service: double (nullable = true)\n",
      "\n",
      "Dim - Age\n",
      "root\n",
      " |-- Country_Code: string (nullable = true)\n",
      " |-- Age 0 to 14 Years: string (nullable = true)\n",
      " |-- Age 15 to 64 Years: string (nullable = true)\n",
      " |-- Age above 65 Years: string (nullable = true)\n",
      "\n",
      "Dim - Crime\n",
      "root\n",
      " |-- Country_Code: string (nullable = true)\n",
      " |-- Crime Index: double (nullable = true)\n",
      " |-- Safety Index: double (nullable = true)\n",
      "\n"
     ]
    }
   ],
   "source": [
    "print(\"Fact - Olympics\")\n",
    "fact_olympics.printSchema()\n",
    "\n",
    "print(\"Dim - Region\")\n",
    "dim_region_df.printSchema()\n",
    "\n",
    "print(\"Dim - Country\")\n",
    "dim_country_df.printSchema()\n",
    "\n",
    "print(\"Dim - Age\")\n",
    "dim_age.printSchema()\n",
    "\n",
    "print(\"Dim - Crime\")\n",
    "dim_crime.printSchema()"
   ]
  },
  {
   "cell_type": "code",
   "execution_count": null,
   "metadata": {},
   "outputs": [],
   "source": []
  }
 ],
 "metadata": {
  "kernelspec": {
   "display_name": "venv",
   "language": "python",
   "name": "python3"
  },
  "language_info": {
   "codemirror_mode": {
    "name": "ipython",
    "version": 3
   },
   "file_extension": ".py",
   "mimetype": "text/x-python",
   "name": "python",
   "nbconvert_exporter": "python",
   "pygments_lexer": "ipython3",
   "version": "3.10.9"
  }
 },
 "nbformat": 4,
 "nbformat_minor": 2
}

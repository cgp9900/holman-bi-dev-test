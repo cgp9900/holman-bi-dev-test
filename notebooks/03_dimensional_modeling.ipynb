{
 "cells": [
  {
   "cell_type": "markdown",
   "metadata": {},
   "source": [
    "## Building a Data Model - Star Schema\n",
    "\n",
    "Note, this would be better managed in a \"gold\" directory as a .py file, but I am housing it here so it is more easily readable and consolidated with the other notebooks."
   ]
  },
  {
   "cell_type": "code",
   "execution_count": 1,
   "metadata": {},
   "outputs": [
    {
     "name": "stderr",
     "output_type": "stream",
     "text": [
      "/Users/coleparker/Documents/holman-bi-dev-test/venv/lib/python3.10/site-packages/fuzzywuzzy/fuzz.py:11: UserWarning: Using slow pure-python SequenceMatcher. Install python-Levenshtein to remove this warning\n",
      "  warnings.warn('Using slow pure-python SequenceMatcher. Install python-Levenshtein to remove this warning')\n",
      "25/01/15 21:56:01 WARN Utils: Your hostname, Coles-MacBook-Pro.local resolves to a loopback address: 127.0.0.1; using 10.0.0.235 instead (on interface en0)\n",
      "25/01/15 21:56:01 WARN Utils: Set SPARK_LOCAL_IP if you need to bind to another address\n",
      "Setting default log level to \"WARN\".\n",
      "To adjust logging level use sc.setLogLevel(newLevel). For SparkR, use setLogLevel(newLevel).\n",
      "25/01/15 21:56:02 WARN NativeCodeLoader: Unable to load native-hadoop library for your platform... using builtin-java classes where applicable\n",
      "                                                                                \r"
     ]
    }
   ],
   "source": [
    "# Reading in combined data for us to separate out\n",
    "import os \n",
    "\n",
    "# Move the execution of the folder up one directory\n",
    "os.chdir('..')\n",
    "\n",
    "from pyspark.sql import SparkSession\n",
    "from etl.read_normalize import ingest_parquet\n",
    "from pyspark.sql.functions import monotonically_increasing_id\n",
    "\n",
    "spark = SparkSession.builder.appName(\"OlympicCountryDataPipeline\").getOrCreate()\n",
    "\n",
    "df_denormalized = ingest_parquet(\n",
    "    input_path = \"datasets/countries_olympics_join.parquet\"\n",
    "    , spark = spark\n",
    ")"
   ]
  },
  {
   "cell_type": "code",
   "execution_count": 2,
   "metadata": {},
   "outputs": [
    {
     "name": "stderr",
     "output_type": "stream",
     "text": [
      "25/01/15 21:56:13 WARN SparkStringUtils: Truncated the string representation of a plan since it was too large. This behavior can be adjusted by setting 'spark.sql.debug.maxToStringFields'.\n",
      "                                                                                \r"
     ]
    },
    {
     "name": "stdout",
     "output_type": "stream",
     "text": [
      "+------------+----+------+------+-----+----+------------+--------------------+-----------+----------+---------------------+--------------------------+-------------+--------------------------------+--------------+----------------+---------------+--------------+-------------+-------------+-------+---------+---------+-----------+--------+-------+\n",
      "|Country_Code|Gold|Silver|Bronze|Total|Year|Country_Name|              Region| Population|Area_sq_mi|Pop_Density_per_sq_mi|Coastline_coast_area_ratio|Net_migration|Infant_mortality_per_1000_births|GDP_per_capita|Literacy_percent|Phones_per_1000|Arable_percent|Crops_percent|Other_percent|Climate|Birthrate|Deathrate|Agriculture|Industry|Service|\n",
      "+------------+----+------+------+-----+----+------------+--------------------+-----------+----------+---------------------+--------------------------+-------------+--------------------------------+--------------+----------------+---------------+--------------+-------------+-------------+-------+---------+---------+-----------+--------+-------+\n",
      "|         DOM|   1|     0|     0|    1|2004|   Dominica |LATIN AMER. & CAR...|    68910.0|     754.0|                 91.4|                     19.63|       -13.87|                           14.15|        5400.0|            94.0|          304.8|          6.67|         20.0|        73.33|    2.0|    15.27|     6.73|       0.18|    0.33|    0.5|\n",
      "|         DOM|   0|     0|     1|    1|2016|   Dominica |LATIN AMER. & CAR...|    68910.0|     754.0|                 91.4|                     19.63|       -13.87|                           14.15|        5400.0|            94.0|          304.8|          6.67|         20.0|        73.33|    2.0|    15.27|     6.73|       0.18|    0.33|    0.5|\n",
      "|         DOM|   1|     1|     0|    2|2012|   Dominica |LATIN AMER. & CAR...|    68910.0|     754.0|                 91.4|                     19.63|       -13.87|                           14.15|        5400.0|            94.0|          304.8|          6.67|         20.0|        73.33|    2.0|    15.27|     6.73|       0.18|    0.33|    0.5|\n",
      "|         DOM|   1|     0|     1|    2|2024|   Dominica |LATIN AMER. & CAR...|    68910.0|     754.0|                 91.4|                     19.63|       -13.87|                           14.15|        5400.0|            94.0|          304.8|          6.67|         20.0|        73.33|    2.0|    15.27|     6.73|       0.18|    0.33|    0.5|\n",
      "|         DOM|   0|     3|     2|    5|2020|   Dominica |LATIN AMER. & CAR...|    68910.0|     754.0|                 91.4|                     19.63|       -13.87|                           14.15|        5400.0|            94.0|          304.8|          6.67|         20.0|        73.33|    2.0|    15.27|     6.73|       0.18|    0.33|    0.5|\n",
      "|         ECU|   1|     0|     0|    1|1996|    Ecuador |LATIN AMER. & CAR...| 1.354751E7|  283560.0|                 47.8|                      0.79|        -8.58|                           23.66|        3300.0|            92.5|          125.6|          5.85|         4.93|        89.22|    2.0|    22.29|     4.23|       0.07|    0.31|   0.62|\n",
      "|         ECU|   1|     2|     2|    5|2024|    Ecuador |LATIN AMER. & CAR...| 1.354751E7|  283560.0|                 47.8|                      0.79|        -8.58|                           23.66|        3300.0|            92.5|          125.6|          5.85|         4.93|        89.22|    2.0|    22.29|     4.23|       0.07|    0.31|   0.62|\n",
      "|         ECU|   2|     1|     0|    3|2020|    Ecuador |LATIN AMER. & CAR...| 1.354751E7|  283560.0|                 47.8|                      0.79|        -8.58|                           23.66|        3300.0|            92.5|          125.6|          5.85|         4.93|        89.22|    2.0|    22.29|     4.23|       0.07|    0.31|   0.62|\n",
      "|         EGY|   1|     1|     3|    5|2004|      Egypt |NORTHERN AFRICA  ...|7.8887007E7| 1001450.0|                 78.8|                      0.24|        -0.22|                           32.59|        4000.0|            57.7|          131.8|          2.87|         0.48|        96.65|    1.0|    22.94|     5.23|       0.15|    0.36|   0.49|\n",
      "|         EGY|   0|     0|     3|    3|2016|      Egypt |NORTHERN AFRICA  ...|7.8887007E7| 1001450.0|                 78.8|                      0.24|        -0.22|                           32.59|        4000.0|            57.7|          131.8|          2.87|         0.48|        96.65|    1.0|    22.94|     5.23|       0.15|    0.36|   0.49|\n",
      "|         EGY|   0|     3|     1|    4|2012|      Egypt |NORTHERN AFRICA  ...|7.8887007E7| 1001450.0|                 78.8|                      0.24|        -0.22|                           32.59|        4000.0|            57.7|          131.8|          2.87|         0.48|        96.65|    1.0|    22.94|     5.23|       0.15|    0.36|   0.49|\n",
      "|         EGY|   1|     1|     1|    3|2024|      Egypt |NORTHERN AFRICA  ...|7.8887007E7| 1001450.0|                 78.8|                      0.24|        -0.22|                           32.59|        4000.0|            57.7|          131.8|          2.87|         0.48|        96.65|    1.0|    22.94|     5.23|       0.15|    0.36|   0.49|\n",
      "|         EGY|   1|     1|     4|    6|2020|      Egypt |NORTHERN AFRICA  ...|7.8887007E7| 1001450.0|                 78.8|                      0.24|        -0.22|                           32.59|        4000.0|            57.7|          131.8|          2.87|         0.48|        96.65|    1.0|    22.94|     5.23|       0.15|    0.36|   0.49|\n",
      "|         ERI|   0|     0|     1|    1|2004|    Eritrea |SUB-SAHARAN AFRIC...|  4786994.0|  121320.0|                 39.5|                      1.84|          0.0|                           74.87|         700.0|            58.6|            7.9|          4.95|         0.03|        95.02|    1.5|    34.33|      9.6|        0.1|    0.25|   0.64|\n",
      "|         ESP|   0|     1|     0|    1|2022|   Maldives |ASIA (EX. NEAR EA...|   359008.0|     300.0|               1196.7|                    214.67|          0.0|                           56.52|        3900.0|            97.2|           90.0|         13.33|        16.67|         70.0|    2.0|    34.81|     7.06|        0.2|    0.18|   0.62|\n",
      "|         ESP|   0|     0|     2|    2|2018|   Maldives |ASIA (EX. NEAR EA...|   359008.0|     300.0|               1196.7|                    214.67|          0.0|                           56.52|        3900.0|            97.2|           90.0|         13.33|        16.67|         70.0|    2.0|    34.81|     7.06|        0.2|    0.18|   0.62|\n",
      "|         ESP|   3|    11|     6|   20|2004|   Maldives |ASIA (EX. NEAR EA...|   359008.0|     300.0|               1196.7|                    214.67|          0.0|                           56.52|        3900.0|            97.2|           90.0|         13.33|        16.67|         70.0|    2.0|    34.81|     7.06|        0.2|    0.18|   0.62|\n",
      "|         ESP|   5|     6|     6|   17|1996|   Maldives |ASIA (EX. NEAR EA...|   359008.0|     300.0|               1196.7|                    214.67|          0.0|                           56.52|        3900.0|            97.2|           90.0|         13.33|        16.67|         70.0|    2.0|    34.81|     7.06|        0.2|    0.18|   0.62|\n",
      "|         ESP|   3|     3|     5|   11|2000|   Maldives |ASIA (EX. NEAR EA...|   359008.0|     300.0|               1196.7|                    214.67|          0.0|                           56.52|        3900.0|            97.2|           90.0|         13.33|        16.67|         70.0|    2.0|    34.81|     7.06|        0.2|    0.18|   0.62|\n",
      "|         ESP|   7|     4|     6|   17|2016|   Maldives |ASIA (EX. NEAR EA...|   359008.0|     300.0|               1196.7|                    214.67|          0.0|                           56.52|        3900.0|            97.2|           90.0|         13.33|        16.67|         70.0|    2.0|    34.81|     7.06|        0.2|    0.18|   0.62|\n",
      "+------------+----+------+------+-----+----+------------+--------------------+-----------+----------+---------------------+--------------------------+-------------+--------------------------------+--------------+----------------+---------------+--------------+-------------+-------------+-------+---------+---------+-----------+--------+-------+\n",
      "only showing top 20 rows\n",
      "\n"
     ]
    }
   ],
   "source": [
    "df_denormalized.show()"
   ]
  },
  {
   "cell_type": "markdown",
   "metadata": {},
   "source": [
    "## Creating Star Schema Tables - Olympics & Countries"
   ]
  },
  {
   "cell_type": "code",
   "execution_count": 12,
   "metadata": {},
   "outputs": [],
   "source": [
    "# sequence of dimension tables\n",
    "dim_country_df = df_denormalized.select(\n",
    "    \"Country_Code\", \n",
    "    \"Country_Name\", \n",
    "    \"Population\", \n",
    "    \"Area_sq_mi\", \n",
    "    \"Pop_Density_per_sq_mi\",\n",
    "    \"Coastline_coast_area_ratio\",\n",
    "    \"Net_migration\",\n",
    "    \"Infant_mortality_per_1000_births\",\n",
    "    \"GDP_per_capita\",\n",
    "    \"Literacy_percent\",\n",
    "    \"Phones_per_1000\",\n",
    "    \"Arable_percent\",\n",
    "    \"Crops_percent\",\n",
    "    \"Other_percent\",\n",
    "    \"Climate\",\n",
    "    \"Birthrate\",\n",
    "    \"Deathrate\",\n",
    "    \"Agriculture\",\n",
    "    \"Industry\",\n",
    "    \"Service\").distinct()\n",
    "\n",
    "dim_region_df = (df_denormalized.select(\"Region\")\n",
    "                 .distinct()\n",
    "                 .withColumn(\"Region_ID\", monotonically_increasing_id())\n",
    "                 )\n",
    "\n",
    "# Creating our fact_table to use our ID columns \n",
    "fact_olympics = (df_denormalized\n",
    "                   .join(dim_region_df, on = \"Region\", how = \"inner\")\n",
    "                   ).drop(\"Region\", \"Country_Name\", \"Population\", \"Area_sq_mi\", \\\n",
    "                    \"Pop_Density_per_sq_mi\", \"Coastline_coast_area_ratio\", \"Net_migration\", \\\n",
    "                    \"Infant_mortality_per_1000_births\", \"GDP_per_capita\", \"Literacy_percent\", \\\n",
    "                    \"Phones_per_1000\", \"Arable_percent\", \"Crops_percent\", \"Other_percent\", \\\n",
    "                    \"Climate\", \"Birthrate\", \"Deathrate\", \"Agriculture\", \"Industry\",\"Service\")\n",
    "\n"
   ]
  },
  {
   "cell_type": "markdown",
   "metadata": {},
   "source": [
    "Printing out the schema of our fact and dimension tables so we can see how they would join!"
   ]
  },
  {
   "cell_type": "code",
   "execution_count": 22,
   "metadata": {},
   "outputs": [
    {
     "name": "stdout",
     "output_type": "stream",
     "text": [
      "Fact - Olympics\n",
      "root\n",
      " |-- Country_Code: string (nullable = true)\n",
      " |-- Gold: integer (nullable = true)\n",
      " |-- Silver: integer (nullable = true)\n",
      " |-- Bronze: integer (nullable = true)\n",
      " |-- Total: integer (nullable = true)\n",
      " |-- Year: string (nullable = true)\n",
      " |-- Region_ID: long (nullable = false)\n",
      "\n",
      "Dim - Region\n",
      "root\n",
      " |-- Region: string (nullable = true)\n",
      " |-- Region_ID: long (nullable = false)\n",
      "\n",
      "Dim - Country\n",
      "root\n",
      " |-- Country_Code: string (nullable = true)\n",
      " |-- Country_Name: string (nullable = true)\n",
      " |-- Population: double (nullable = true)\n",
      " |-- Area_sq_mi: double (nullable = true)\n",
      " |-- Pop_Density_per_sq_mi: double (nullable = true)\n",
      " |-- Coastline_coast_area_ratio: double (nullable = true)\n",
      " |-- Net_migration: double (nullable = true)\n",
      " |-- Infant_mortality_per_1000_births: double (nullable = true)\n",
      " |-- GDP_per_capita: double (nullable = true)\n",
      " |-- Literacy_percent: double (nullable = true)\n",
      " |-- Phones_per_1000: double (nullable = true)\n",
      " |-- Arable_percent: double (nullable = true)\n",
      " |-- Crops_percent: double (nullable = true)\n",
      " |-- Other_percent: double (nullable = true)\n",
      " |-- Climate: double (nullable = true)\n",
      " |-- Birthrate: double (nullable = true)\n",
      " |-- Deathrate: double (nullable = true)\n",
      " |-- Agriculture: double (nullable = true)\n",
      " |-- Industry: double (nullable = true)\n",
      " |-- Service: double (nullable = true)\n",
      "\n"
     ]
    }
   ],
   "source": [
    "print(\"Fact - Olympics\")\n",
    "fact_olympics.printSchema()\n",
    "\n",
    "print(\"Dim - Region\")\n",
    "dim_region_df.printSchema()\n",
    "\n",
    "print(\"Dim - Country\")\n",
    "dim_country_df.printSchema()"
   ]
  },
  {
   "cell_type": "markdown",
   "metadata": {},
   "source": [
    "## Adding More Fact & Dimension Tables"
   ]
  },
  {
   "cell_type": "markdown",
   "metadata": {},
   "source": []
  }
 ],
 "metadata": {
  "kernelspec": {
   "display_name": "venv",
   "language": "python",
   "name": "python3"
  },
  "language_info": {
   "codemirror_mode": {
    "name": "ipython",
    "version": 3
   },
   "file_extension": ".py",
   "mimetype": "text/x-python",
   "name": "python",
   "nbconvert_exporter": "python",
   "pygments_lexer": "ipython3",
   "version": "3.10.9"
  }
 },
 "nbformat": 4,
 "nbformat_minor": 2
}

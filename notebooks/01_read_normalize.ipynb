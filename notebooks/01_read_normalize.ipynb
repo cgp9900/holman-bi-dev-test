{
 "cells": [
  {
   "cell_type": "markdown",
   "metadata": {},
   "source": [
    "## Read Parquet and Normalize"
   ]
  },
  {
   "cell_type": "markdown",
   "metadata": {},
   "source": [
    "#### Imports"
   ]
  },
  {
   "cell_type": "code",
   "execution_count": null,
   "metadata": {},
   "outputs": [
    {
     "name": "stderr",
     "output_type": "stream",
     "text": [
      "/Users/coleparker/Documents/holman-bi-dev-test/venv/lib/python3.10/site-packages/fuzzywuzzy/fuzz.py:11: UserWarning: Using slow pure-python SequenceMatcher. Install python-Levenshtein to remove this warning\n",
      "  warnings.warn('Using slow pure-python SequenceMatcher. Install python-Levenshtein to remove this warning')\n"
     ]
    }
   ],
   "source": [
    "import os \n",
    "\n",
    "# Move the execution of the folder up one directory\n",
    "os.chdir('..')\n",
    "\n",
    "from pyspark.sql import SparkSession\n",
    "from etl.read_normalize import ingest_parquet, create_country_ids, create_country_code_ids, join_country_and_olympics, \\\n",
    "    fuzzy_match"
   ]
  },
  {
   "cell_type": "code",
   "execution_count": 2,
   "metadata": {},
   "outputs": [
    {
     "name": "stderr",
     "output_type": "stream",
     "text": [
      "25/01/15 20:25:12 WARN Utils: Your hostname, Coles-MacBook-Pro.local resolves to a loopback address: 127.0.0.1; using 10.0.0.235 instead (on interface en0)\n",
      "25/01/15 20:25:12 WARN Utils: Set SPARK_LOCAL_IP if you need to bind to another address\n",
      "Setting default log level to \"WARN\".\n",
      "To adjust logging level use sc.setLogLevel(newLevel). For SparkR, use setLogLevel(newLevel).\n",
      "25/01/15 20:25:13 WARN NativeCodeLoader: Unable to load native-hadoop library for your platform... using builtin-java classes where applicable\n"
     ]
    }
   ],
   "source": [
    "spark = SparkSession.builder.appName(\"OlympicCountryDataPipeline\").getOrCreate()\n",
    "spark.sparkContext.setLogLevel(\"ERROR\")"
   ]
  },
  {
   "cell_type": "markdown",
   "metadata": {},
   "source": [
    "#### Reading parquet files"
   ]
  },
  {
   "cell_type": "code",
   "execution_count": 3,
   "metadata": {},
   "outputs": [
    {
     "name": "stderr",
     "output_type": "stream",
     "text": [
      "                                                                                \r"
     ]
    }
   ],
   "source": [
    "# Declare countries path \n",
    "countries_input = \"datasets/countries.parquet\"\n",
    "df_countries = ingest_parquet(input_path = countries_input, spark = spark)\n",
    "\n",
    "olympics_input = \"datasets/olympic_combined.parquet\"\n",
    "df_olympics = ingest_parquet(input_path = olympics_input, spark = spark)"
   ]
  },
  {
   "cell_type": "code",
   "execution_count": 4,
   "metadata": {},
   "outputs": [
    {
     "name": "stderr",
     "output_type": "stream",
     "text": [
      "                                                                                \r"
     ]
    },
    {
     "name": "stdout",
     "output_type": "stream",
     "text": [
      "+------------------+--------------------+------------+----------+---------------------+--------------------------+-------------+--------------------------------+--------------+----------------+---------------+--------------+-------------+-------------+-------+---------+---------+-----------+--------+-------+\n",
      "|      Country_Name|              Region|  Population|Area_sq_mi|Pop_Density_per_sq_mi|Coastline_coast_area_ratio|Net_migration|Infant_mortality_per_1000_births|GDP_per_capita|Literacy_percent|Phones_per_1000|Arable_percent|Crops_percent|Other_percent|Climate|Birthrate|Deathrate|Agriculture|Industry|Service|\n",
      "+------------------+--------------------+------------+----------+---------------------+--------------------------+-------------+--------------------------------+--------------+----------------+---------------+--------------+-------------+-------------+-------+---------+---------+-----------+--------+-------+\n",
      "|      Afghanistan |ASIA (EX. NEAR EA...| 3.1056997E7|  647500.0|                 48.0|                       0.0|        23.06|                          163.07|         700.0|            36.0|            3.2|         12.13|         0.22|        87.65|    1.0|     46.6|    20.34|       0.38|    0.24|   0.38|\n",
      "|          Albania |EASTERN EUROPE   ...|   3581655.0|   28748.0|                124.6|                      1.26|        -4.93|                           21.52|        4500.0|            86.5|           71.2|         21.09|         4.42|        74.49|    3.0|    15.11|     5.22|       0.23|    0.19|   0.58|\n",
      "|          Algeria |NORTHERN AFRICA  ...| 3.2930091E7| 2381740.0|                 13.8|                      0.04|        -0.39|                            31.0|        6000.0|            70.0|           78.1|          3.22|         0.25|        96.53|    1.0|    17.14|     4.61|        0.1|     0.6|    0.3|\n",
      "|   American Samoa |OCEANIA          ...|     57794.0|     199.0|                290.4|                     58.29|       -20.71|                            9.27|        8000.0|            97.0|          259.5|          10.0|         15.0|         75.0|    2.0|    22.46|     3.27|       NULL|    NULL|   NULL|\n",
      "|          Andorra |WESTERN EUROPE   ...|     71201.0|     468.0|                152.1|                       0.0|          6.6|                            4.05|       19000.0|           100.0|          497.2|          2.22|          0.0|        97.78|    3.0|     8.71|     6.25|       NULL|    NULL|   NULL|\n",
      "|           Angola |SUB-SAHARAN AFRIC...| 1.2127071E7| 1246700.0|                  9.7|                      0.13|          0.0|                          191.19|        1900.0|            42.0|            7.8|          2.41|         0.24|        97.35|   NULL|    45.11|     24.2|        0.1|    0.66|   0.25|\n",
      "|         Anguilla |LATIN AMER. & CAR...|     13477.0|     102.0|                132.1|                      59.8|        10.76|                           21.03|        8600.0|            95.0|          460.0|           0.0|          0.0|        100.0|    2.0|    14.17|     5.34|       0.04|    0.18|   0.78|\n",
      "|Antigua & Barbuda |LATIN AMER. & CAR...|     69108.0|     443.0|                156.0|                     34.54|        -6.15|                           19.46|       11000.0|            89.0|          549.9|         18.18|         4.55|        77.27|    2.0|    16.93|     5.37|       0.04|    0.22|   0.74|\n",
      "|        Argentina |LATIN AMER. & CAR...| 3.9921833E7| 2766890.0|                 14.4|                      0.18|         0.61|                           15.18|       11200.0|            97.1|          220.4|         12.31|         0.48|        87.21|    3.0|    16.73|     7.55|        0.1|    0.36|   0.55|\n",
      "|          Armenia |C.W. OF IND. STATES |   2976372.0|   29800.0|                 99.9|                       0.0|        -6.47|                           23.28|        3500.0|            98.6|          195.7|         17.55|          2.3|        80.15|    4.0|    12.07|     8.23|       0.24|    0.34|   0.42|\n",
      "|            Aruba |LATIN AMER. & CAR...|     71891.0|     193.0|                372.5|                     35.49|          0.0|                            5.89|       28000.0|            97.0|          516.1|         10.53|          0.0|        89.47|    2.0|    11.03|     6.68|        0.0|    0.33|   0.66|\n",
      "|        Australia |OCEANIA          ...| 2.0264082E7| 7686850.0|                  2.6|                      0.34|         3.98|                            4.69|       29000.0|           100.0|          565.5|          6.55|         0.04|        93.41|    1.0|    12.14|     7.51|       0.04|    0.26|    0.7|\n",
      "|          Austria |WESTERN EUROPE   ...|   8192880.0|   83870.0|                 97.7|                       0.0|          2.0|                            4.66|       30000.0|            98.0|          452.2|         16.91|         0.86|        82.23|    3.0|     8.74|     9.76|       0.02|     0.3|   0.68|\n",
      "|       Azerbaijan |C.W. OF IND. STATES |   7961619.0|   86600.0|                 91.9|                       0.0|         -4.9|                           81.74|        3400.0|            97.0|          137.1|         19.63|         2.71|        77.66|    1.0|    20.74|     9.75|       0.14|    0.46|    0.4|\n",
      "|     Bahamas, The |LATIN AMER. & CAR...|    303770.0|   13940.0|                 21.8|                     25.41|         -2.2|                           25.21|       16700.0|            95.6|          460.6|           0.8|          0.4|         98.8|    2.0|    17.57|     9.05|       0.03|    0.07|    0.9|\n",
      "|          Bahrain |NEAR EAST        ...|    698585.0|     665.0|               1050.5|                     24.21|         1.05|                           17.27|       16900.0|            89.1|          281.3|          2.82|         5.63|        91.55|    1.0|     17.8|     4.14|       0.01|    0.39|   0.61|\n",
      "|       Bangladesh |ASIA (EX. NEAR EA...|1.47365352E8|  144000.0|               1023.4|                       0.4|        -0.71|                            62.6|        1900.0|            43.1|            7.3|         62.11|         3.07|        34.82|    2.0|     29.8|     8.27|        0.2|     0.2|    0.6|\n",
      "|         Barbados |LATIN AMER. & CAR...|    279912.0|     431.0|                649.5|                     22.51|        -0.31|                            12.5|       15700.0|            97.4|          481.9|         37.21|         2.33|        60.46|    2.0|    12.71|     8.67|       0.06|    0.16|   0.78|\n",
      "|          Belarus |C.W. OF IND. STATES | 1.0293011E7|  207600.0|                 49.6|                       0.0|         2.54|                           13.37|        6100.0|            99.6|          319.1|         29.55|          0.6|        69.85|    4.0|    11.16|    14.02|       0.09|    0.32|   0.59|\n",
      "|          Belgium |WESTERN EUROPE   ...| 1.0379067E7|   30528.0|                340.0|                      0.22|         1.23|                            4.68|       29100.0|            98.0|          462.6|         23.28|          0.4|        76.32|    3.0|    10.38|    10.27|       0.01|    0.24|   0.75|\n",
      "+------------------+--------------------+------------+----------+---------------------+--------------------------+-------------+--------------------------------+--------------+----------------+---------------+--------------+-------------+-------------+-------+---------+---------+-----------+--------+-------+\n",
      "only showing top 20 rows\n",
      "\n"
     ]
    }
   ],
   "source": [
    "df_countries.show()"
   ]
  },
  {
   "cell_type": "markdown",
   "metadata": {},
   "source": [
    "#### Country Code Mapping"
   ]
  },
  {
   "cell_type": "code",
   "execution_count": 5,
   "metadata": {},
   "outputs": [],
   "source": [
    "# Add Country_ID to df_countries\n",
    "df_countries_id = create_country_ids(df_countries)\n",
    "\n",
    "# Add Country_Code_ID to df_olympics\n",
    "df_olympics_id = create_country_code_ids(df_olympics)\n"
   ]
  },
  {
   "cell_type": "code",
   "execution_count": 6,
   "metadata": {},
   "outputs": [
    {
     "name": "stderr",
     "output_type": "stream",
     "text": [
      "[Stage 3:============================================>              (3 + 1) / 4]\r"
     ]
    },
    {
     "name": "stdout",
     "output_type": "stream",
     "text": [
      "+------------+---------------+\n",
      "|Country_Code|Country_Code_ID|\n",
      "+------------+---------------+\n",
      "|         AFG|              1|\n",
      "|         AIN|              2|\n",
      "|         ALB|              3|\n",
      "|         ALG|              4|\n",
      "|         ARG|              5|\n",
      "|         ARM|              6|\n",
      "|         AUS|              7|\n",
      "|         AUT|              8|\n",
      "|         AZE|              9|\n",
      "|         BAH|             10|\n",
      "|         BAR|             11|\n",
      "|         BDI|             12|\n",
      "|         BEL|             13|\n",
      "|         BER|             14|\n",
      "|         BLR|             15|\n",
      "|         BOT|             16|\n",
      "|         BRA|             17|\n",
      "|         BRN|             18|\n",
      "|         BUL|             19|\n",
      "|         BUR|             20|\n",
      "+------------+---------------+\n",
      "only showing top 20 rows\n",
      "\n"
     ]
    },
    {
     "name": "stderr",
     "output_type": "stream",
     "text": [
      "                                                                                \r"
     ]
    }
   ],
   "source": [
    "df_olympics_id.show()"
   ]
  },
  {
   "cell_type": "markdown",
   "metadata": {},
   "source": [
    "## Joining countries and olympics"
   ]
  },
  {
   "cell_type": "code",
   "execution_count": 7,
   "metadata": {},
   "outputs": [],
   "source": [
    "df_countries_olympics = join_country_and_olympics(df_countries, df_olympics)"
   ]
  },
  {
   "cell_type": "code",
   "execution_count": 8,
   "metadata": {},
   "outputs": [
    {
     "name": "stdout",
     "output_type": "stream",
     "text": [
      "+------------+----+------+------+-----+----+---------------+-----------------+--------------------+------------+----------+---------------------+--------------------------+-------------+--------------------------------+--------------+----------------+---------------+--------------+-------------+-------------+-------+---------+---------+-----------+--------+-------+----------+\n",
      "|Country_Code|Gold|Silver|Bronze|Total|Year|Country_Code_ID|     Country_Name|              Region|  Population|Area_sq_mi|Pop_Density_per_sq_mi|Coastline_coast_area_ratio|Net_migration|Infant_mortality_per_1000_births|GDP_per_capita|Literacy_percent|Phones_per_1000|Arable_percent|Crops_percent|Other_percent|Climate|Birthrate|Deathrate|Agriculture|Industry|Service|Country_ID|\n",
      "+------------+----+------+------+-----+----+---------------+-----------------+--------------------+------------+----------+---------------------+--------------------------+-------------+--------------------------------+--------------+----------------+---------------+--------------+-------------+-------------+-------+---------+---------+-----------+--------+-------+----------+\n",
      "|         JPN|  27|    14|    17|   58|2020|             65|         Estonia |BALTICS          ...|   1324333.0|   45226.0|                 29.3|                      8.39|        -3.16|                            7.87|       12300.0|            99.8|          333.8|         16.04|         0.45|        83.51|    3.0|    10.04|    13.25|       0.04|    0.29|   0.67|        65|\n",
      "|         FRA|  10|    12|    11|   33|2020|             44|        Colombia |LATIN AMER. & CAR...| 4.3593035E7| 1138910.0|                 38.3|                      0.28|        -0.31|                           20.97|        6300.0|            92.5|          176.2|          2.42|         1.67|        95.91|    2.0|    20.48|     5.58|       0.13|    0.34|   0.53|        44|\n",
      "|         NOR|   4|     2|     2|    8|2020|             91|        Honduras |LATIN AMER. & CAR...|   7326496.0|  112090.0|                 65.4|                      0.73|        -1.99|                           29.32|        2600.0|            76.2|           67.5|          9.55|         3.22|        87.23|    2.0|    28.24|     5.28|       0.14|    0.31|   0.55|        91|\n",
      "|         HUN|   6|     7|     7|   20|2020|             54|  Czech Republic |EASTERN EUROPE   ...| 1.0235455E7|   78866.0|                129.8|                       0.0|         0.97|                            3.93|       15700.0|            99.9|          314.3|          39.8|         3.05|        57.15|    3.0|     9.02|    10.59|       0.03|    0.39|   0.57|        54|\n",
      "|         GER|  10|    11|    16|   37|2020|             48|    Cook Islands |OCEANIA          ...|     21388.0|     240.0|                 89.1|                      50.0|         NULL|                            NULL|        5000.0|            95.0|          289.9|         17.39|        13.04|        69.57|    2.0|     21.0|     NULL|       0.15|     0.1|   0.75|        48|\n",
      "|         NZL|   7|     6|     7|   20|2020|             92|       Hong Kong |ASIA (EX. NEAR EA...|   6940432.0|    1092.0|               6355.7|                     67.12|         5.24|                            2.97|       28800.0|            93.5|          546.7|          5.05|         1.01|        93.94|    2.0|     7.29|     6.29|        0.0|    0.09|   0.91|        92|\n",
      "|         BRA|   7|     6|     8|   21|2020|             17|      Bangladesh |ASIA (EX. NEAR EA...|1.47365352E8|  144000.0|               1023.4|                       0.4|        -0.71|                            62.6|        1900.0|            43.1|            7.3|         62.11|         3.07|        34.82|    2.0|     29.8|     8.27|        0.2|     0.2|    0.6|        17|\n",
      "|         CHN|  38|    32|    19|   89|2020|             23|         Bermuda |NORTHERN AMERICA ...|     65773.0|      53.0|               1241.0|                    194.34|         2.49|                            8.53|       36000.0|            98.0|          851.4|          20.0|          0.0|         80.0|    2.0|     11.4|     7.74|       0.01|     0.1|   0.89|        23|\n",
      "|         AUS|  17|     7|    22|   46|2020|              7|        Anguilla |LATIN AMER. & CAR...|     13477.0|     102.0|                132.1|                      59.8|        10.76|                           21.03|        8600.0|            95.0|          460.0|           0.0|          0.0|        100.0|    2.0|    14.17|     5.34|       0.04|    0.18|   0.78|         7|\n",
      "|         NED|  10|    12|    14|   36|2020|             87|          Guinea |SUB-SAHARAN AFRIC...|   9690222.0|  245857.0|                 39.4|                      0.13|        -3.06|                           90.37|        2100.0|            35.9|            2.7|          3.63|         2.58|        93.79|    2.0|    41.76|    15.48|       0.24|    0.36|    0.4|        87|\n",
      "|         KOR|   6|     4|    10|   20|2020|             69|         Finland |WESTERN EUROPE   ...|   5231372.0|  338145.0|                 15.5|                      0.37|         0.95|                            3.57|       27400.0|           100.0|          405.3|          7.19|         0.03|        92.78|    3.0|    10.45|     9.86|       0.03|     0.3|   0.68|        69|\n",
      "|         ITA|  10|    10|    20|   40|2020|             62|     El Salvador |LATIN AMER. & CAR...|   6822378.0|   21040.0|                324.3|                      1.46|        -3.74|                            25.1|        4800.0|            80.2|          142.4|         31.85|        12.07|        56.08|    2.0|    26.61|     5.78|        0.1|     0.3|    0.6|        62|\n",
      "|         CAN|   7|     7|    10|   24|2020|             21|          Belize |LATIN AMER. & CAR...|    287730.0|   22966.0|                 12.5|                      1.68|          0.0|                           25.69|        4900.0|            94.1|          115.7|          2.85|         1.71|        95.44|    2.0|    28.84|     5.72|       0.14|    0.15|   0.61|        21|\n",
      "|         NOC|NULL|  NULL|  NULL| NULL|2020|             90|           Haiti |LATIN AMER. & CAR...|   8308504.0|   27750.0|                299.4|                      6.38|         -3.4|                           73.45|        1600.0|            52.9|           16.9|          28.3|        11.61|        60.09|    2.0|    36.44|    12.17|       0.28|     0.2|   0.52|        90|\n",
      "|         CZE|   4|     4|     3|   11|2020|             32|    Burkina Faso |SUB-SAHARAN AFRIC...| 1.3902972E7|  274200.0|                 50.7|                       0.0|          0.0|                           97.57|        1100.0|            26.6|            7.0|         14.43|         0.19|        85.38|    2.0|    45.62|     15.6|       0.32|     0.2|   0.48|        32|\n",
      "|         USA|  39|    41|    33|  113|2020|            131|Marshall Islands |OCEANIA          ...|     60422.0|   11854.0|                  5.1|                      3.12|        -6.04|                           29.45|        1600.0|            93.7|           91.2|         16.67|        38.89|        44.44|    2.0|    33.05|     4.78|       0.32|    0.15|   0.53|       131|\n",
      "|         CUB|   7|     3|     5|   15|2020|             30|          Brunei |ASIA (EX. NEAR EA...|    379444.0|    5770.0|                 65.8|                      2.79|         3.59|                           12.61|       18600.0|            93.9|          237.2|          0.57|         0.76|        98.67|    2.0|    18.79|     3.45|       0.04|    0.56|    0.4|        30|\n",
      "|         POL|   4|     5|     5|   14|2020|             99|         Ireland |WESTERN EUROPE   ...|   4062235.0|   70280.0|                 57.8|                      2.06|         4.99|                            5.39|       29600.0|            98.0|          500.5|          15.2|         0.03|        84.77|    3.0|    14.45|     7.82|       0.05|    0.46|   0.49|        99|\n",
      "|         GBR|  22|    20|    22|   64|2020|             46|Congo, Dem. Rep. |SUB-SAHARAN AFRIC...| 6.2660551E7| 2345410.0|                 26.7|                       0.0|          0.0|                           94.69|         700.0|            65.5|            0.2|          2.96|         0.52|        96.52|    2.0|    43.69|    13.27|       0.55|    0.11|   0.34|        46|\n",
      "|         KEN|   4|     4|     2|   10|2020|             67|   Faroe Islands |WESTERN EUROPE   ...|     47246.0|    1399.0|                 33.8|                     79.84|         1.41|                            6.24|       22000.0|            NULL|          503.8|          2.14|          0.0|        97.86|   NULL|    14.05|      8.7|       0.27|    0.11|   0.62|        67|\n",
      "+------------+----+------+------+-----+----+---------------+-----------------+--------------------+------------+----------+---------------------+--------------------------+-------------+--------------------------------+--------------+----------------+---------------+--------------+-------------+-------------+-------+---------+---------+-----------+--------+-------+----------+\n",
      "only showing top 20 rows\n",
      "\n"
     ]
    }
   ],
   "source": [
    "df_countries_olympics.show()"
   ]
  },
  {
   "cell_type": "markdown",
   "metadata": {},
   "source": [
    "## Extra - Fuzzy Matching! For Fun"
   ]
  },
  {
   "cell_type": "markdown",
   "metadata": {},
   "source": [
    "The below code shows how you could create your own dictionary to pair 3 letter country codes to their names. This is not perfect, but gets closer to the actual result expected!"
   ]
  },
  {
   "cell_type": "code",
   "execution_count": 10,
   "metadata": {},
   "outputs": [
    {
     "name": "stderr",
     "output_type": "stream",
     "text": [
      "                                                                                \r"
     ]
    },
    {
     "name": "stdout",
     "output_type": "stream",
     "text": [
      "+------------+----+------+------+-----+----+------------+--------------------+-----------+----------+---------------------+--------------------------+-------------+--------------------------------+--------------+----------------+---------------+--------------+-------------+-------------+-------+---------+---------+-----------+--------+-------+\n",
      "|Country_Code|Gold|Silver|Bronze|Total|Year|Country_Name|              Region| Population|Area_sq_mi|Pop_Density_per_sq_mi|Coastline_coast_area_ratio|Net_migration|Infant_mortality_per_1000_births|GDP_per_capita|Literacy_percent|Phones_per_1000|Arable_percent|Crops_percent|Other_percent|Climate|Birthrate|Deathrate|Agriculture|Industry|Service|\n",
      "+------------+----+------+------+-----+----+------------+--------------------+-----------+----------+---------------------+--------------------------+-------------+--------------------------------+--------------+----------------+---------------+--------------+-------------+-------------+-------+---------+---------+-----------+--------+-------+\n",
      "|         AFG|   0|     0|     1|    1|2012|Afghanistan |ASIA (EX. NEAR EA...|3.1056997E7|  647500.0|                 48.0|                       0.0|        23.06|                          163.07|         700.0|            36.0|            3.2|         12.13|         0.22|        87.65|    1.0|     46.6|    20.34|       0.38|    0.24|   0.38|\n",
      "|         AIN|   1|     3|     1|    5|2024|    Bahrain |NEAR EAST        ...|   698585.0|     665.0|               1050.5|                     24.21|         1.05|                           17.27|       16900.0|            89.1|          281.3|          2.82|         5.63|        91.55|    1.0|     17.8|     4.14|       0.01|    0.39|   0.61|\n",
      "|         ALB|   0|     0|     2|    2|2024|    Albania |EASTERN EUROPE   ...|  3581655.0|   28748.0|                124.6|                      1.26|        -4.93|                           21.52|        4500.0|            86.5|           71.2|         21.09|         4.42|        74.49|    3.0|    15.11|     5.22|       0.23|    0.19|   0.58|\n",
      "|         ALG|   2|     0|     1|    3|1996|    Algeria |NORTHERN AFRICA  ...|3.2930091E7| 2381740.0|                 13.8|                      0.04|        -0.39|                            31.0|        6000.0|            70.0|           78.1|          3.22|         0.25|        96.53|    1.0|    17.14|     4.61|        0.1|     0.6|    0.3|\n",
      "|         ALG|   1|     1|     3|    5|2000|    Algeria |NORTHERN AFRICA  ...|3.2930091E7| 2381740.0|                 13.8|                      0.04|        -0.39|                            31.0|        6000.0|            70.0|           78.1|          3.22|         0.25|        96.53|    1.0|    17.14|     4.61|        0.1|     0.6|    0.3|\n",
      "|         ALG|   0|     2|     0|    2|2016|    Algeria |NORTHERN AFRICA  ...|3.2930091E7| 2381740.0|                 13.8|                      0.04|        -0.39|                            31.0|        6000.0|            70.0|           78.1|          3.22|         0.25|        96.53|    1.0|    17.14|     4.61|        0.1|     0.6|    0.3|\n",
      "|         ALG|   1|     0|     0|    1|2012|    Algeria |NORTHERN AFRICA  ...|3.2930091E7| 2381740.0|                 13.8|                      0.04|        -0.39|                            31.0|        6000.0|            70.0|           78.1|          3.22|         0.25|        96.53|    1.0|    17.14|     4.61|        0.1|     0.6|    0.3|\n",
      "|         ALG|   2|     0|     1|    3|2024|    Algeria |NORTHERN AFRICA  ...|3.2930091E7| 2381740.0|                 13.8|                      0.04|        -0.39|                            31.0|        6000.0|            70.0|           78.1|          3.22|         0.25|        96.53|    1.0|    17.14|     4.61|        0.1|     0.6|    0.3|\n",
      "|         ARG|   2|     0|     4|    6|2004|  Argentina |LATIN AMER. & CAR...|3.9921833E7| 2766890.0|                 14.4|                      0.18|         0.61|                           15.18|       11200.0|            97.1|          220.4|         12.31|         0.48|        87.21|    3.0|    16.73|     7.55|        0.1|    0.36|   0.55|\n",
      "|         ARG|   0|     2|     1|    3|1996|  Argentina |LATIN AMER. & CAR...|3.9921833E7| 2766890.0|                 14.4|                      0.18|         0.61|                           15.18|       11200.0|            97.1|          220.4|         12.31|         0.48|        87.21|    3.0|    16.73|     7.55|        0.1|    0.36|   0.55|\n",
      "|         ARG|   0|     2|     2|    4|2000|  Argentina |LATIN AMER. & CAR...|3.9921833E7| 2766890.0|                 14.4|                      0.18|         0.61|                           15.18|       11200.0|            97.1|          220.4|         12.31|         0.48|        87.21|    3.0|    16.73|     7.55|        0.1|    0.36|   0.55|\n",
      "|         ARG|   3|     1|     0|    4|2016|  Argentina |LATIN AMER. & CAR...|3.9921833E7| 2766890.0|                 14.4|                      0.18|         0.61|                           15.18|       11200.0|            97.1|          220.4|         12.31|         0.48|        87.21|    3.0|    16.73|     7.55|        0.1|    0.36|   0.55|\n",
      "|         ARG|   1|     1|     2|    4|2012|  Argentina |LATIN AMER. & CAR...|3.9921833E7| 2766890.0|                 14.4|                      0.18|         0.61|                           15.18|       11200.0|            97.1|          220.4|         12.31|         0.48|        87.21|    3.0|    16.73|     7.55|        0.1|    0.36|   0.55|\n",
      "|         ARG|   1|     1|     1|    3|2024|  Argentina |LATIN AMER. & CAR...|3.9921833E7| 2766890.0|                 14.4|                      0.18|         0.61|                           15.18|       11200.0|            97.1|          220.4|         12.31|         0.48|        87.21|    3.0|    16.73|     7.55|        0.1|    0.36|   0.55|\n",
      "|         ARG|   0|     1|     2|    3|2020|  Argentina |LATIN AMER. & CAR...|3.9921833E7| 2766890.0|                 14.4|                      0.18|         0.61|                           15.18|       11200.0|            97.1|          220.4|         12.31|         0.48|        87.21|    3.0|    16.73|     7.55|        0.1|    0.36|   0.55|\n",
      "|         ARM|   1|     1|     0|    2|1996|    Armenia |C.W. OF IND. STATES |  2976372.0|   29800.0|                 99.9|                       0.0|        -6.47|                           23.28|        3500.0|            98.6|          195.7|         17.55|          2.3|        80.15|    4.0|    12.07|     8.23|       0.24|    0.34|   0.42|\n",
      "|         ARM|   0|     0|     1|    1|2000|    Armenia |C.W. OF IND. STATES |  2976372.0|   29800.0|                 99.9|                       0.0|        -6.47|                           23.28|        3500.0|            98.6|          195.7|         17.55|          2.3|        80.15|    4.0|    12.07|     8.23|       0.24|    0.34|   0.42|\n",
      "|         ARM|   1|     3|     0|    4|2016|    Armenia |C.W. OF IND. STATES |  2976372.0|   29800.0|                 99.9|                       0.0|        -6.47|                           23.28|        3500.0|            98.6|          195.7|         17.55|          2.3|        80.15|    4.0|    12.07|     8.23|       0.24|    0.34|   0.42|\n",
      "|         ARM|   0|     1|     1|    2|2012|    Armenia |C.W. OF IND. STATES |  2976372.0|   29800.0|                 99.9|                       0.0|        -6.47|                           23.28|        3500.0|            98.6|          195.7|         17.55|          2.3|        80.15|    4.0|    12.07|     8.23|       0.24|    0.34|   0.42|\n",
      "|         ARM|   0|     3|     1|    4|2024|    Armenia |C.W. OF IND. STATES |  2976372.0|   29800.0|                 99.9|                       0.0|        -6.47|                           23.28|        3500.0|            98.6|          195.7|         17.55|          2.3|        80.15|    4.0|    12.07|     8.23|       0.24|    0.34|   0.42|\n",
      "+------------+----+------+------+-----+----+------------+--------------------+-----------+----------+---------------------+--------------------------+-------------+--------------------------------+--------------+----------------+---------------+--------------+-------------+-------------+-------+---------+---------+-----------+--------+-------+\n",
      "only showing top 20 rows\n",
      "\n"
     ]
    }
   ],
   "source": [
    "## Example of a way to use fuzzy match to get closer to the real country combinations\n",
    "\n",
    "df_countries_olympics_fuzzy = fuzzy_match(\n",
    "    spark,\n",
    "    df_countries,\n",
    "    df_olympics\n",
    ")\n",
    "\n",
    "df_countries_olympics_fuzzy.show()"
   ]
  },
  {
   "cell_type": "code",
   "execution_count": 11,
   "metadata": {},
   "outputs": [
    {
     "name": "stderr",
     "output_type": "stream",
     "text": [
      "                                                                                \r"
     ]
    }
   ],
   "source": [
    "# Write the fuzzy joined data as parquet\n",
    "\n",
    "df_countries_olympics_fuzzy.write.parquet(\"country_olympics_join.parquet\")"
   ]
  },
  {
   "cell_type": "markdown",
   "metadata": {},
   "source": []
  }
 ],
 "metadata": {
  "kernelspec": {
   "display_name": "venv",
   "language": "python",
   "name": "python3"
  },
  "language_info": {
   "codemirror_mode": {
    "name": "ipython",
    "version": 3
   },
   "file_extension": ".py",
   "mimetype": "text/x-python",
   "name": "python",
   "nbconvert_exporter": "python",
   "pygments_lexer": "ipython3",
   "version": "3.10.9"
  }
 },
 "nbformat": 4,
 "nbformat_minor": 2
}

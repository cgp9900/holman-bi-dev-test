{
 "cells": [
  {
   "cell_type": "markdown",
   "metadata": {},
   "source": [
    "## Read Parquet and Normalize\n",
    "\n",
    "The goal of this script is to ingest the Parquet files and generate an artificial key to facilitate a join"
   ]
  },
  {
   "cell_type": "markdown",
   "metadata": {},
   "source": [
    "#### Imports"
   ]
  },
  {
   "cell_type": "code",
   "execution_count": 1,
   "metadata": {},
   "outputs": [
    {
     "name": "stderr",
     "output_type": "stream",
     "text": [
      "/Users/coleparker/Documents/holman-bi-dev-test/venv/lib/python3.10/site-packages/fuzzywuzzy/fuzz.py:11: UserWarning: Using slow pure-python SequenceMatcher. Install python-Levenshtein to remove this warning\n",
      "  warnings.warn('Using slow pure-python SequenceMatcher. Install python-Levenshtein to remove this warning')\n"
     ]
    }
   ],
   "source": [
    "import os \n",
    "\n",
    "# Move the execution of the folder up one directory - for importing functions\n",
    "os.chdir('..')\n",
    "\n",
    "from pyspark.sql import SparkSession\n",
    "from etl.read_normalize import ingest_parquet, create_country_ids, create_country_code_ids, join_country_and_olympics, \\\n",
    "    fuzzy_match"
   ]
  },
  {
   "cell_type": "code",
   "execution_count": 2,
   "metadata": {},
   "outputs": [
    {
     "name": "stderr",
     "output_type": "stream",
     "text": [
      "25/01/16 07:06:44 WARN Utils: Your hostname, Coles-MacBook-Pro.local resolves to a loopback address: 127.0.0.1; using 10.0.0.235 instead (on interface en0)\n",
      "25/01/16 07:06:44 WARN Utils: Set SPARK_LOCAL_IP if you need to bind to another address\n",
      "Setting default log level to \"WARN\".\n",
      "To adjust logging level use sc.setLogLevel(newLevel). For SparkR, use setLogLevel(newLevel).\n",
      "25/01/16 07:06:45 WARN NativeCodeLoader: Unable to load native-hadoop library for your platform... using builtin-java classes where applicable\n"
     ]
    }
   ],
   "source": [
    "spark = SparkSession.builder.appName(\"OlympicCountryDataPipeline\").getOrCreate()\n",
    "\n",
    "# Setting log level from warn to error - suppressing warnings regarding window specs without partitioning\n",
    "spark.sparkContext.setLogLevel(\"ERROR\")"
   ]
  },
  {
   "cell_type": "markdown",
   "metadata": {},
   "source": [
    "#### Reading parquet files"
   ]
  },
  {
   "cell_type": "code",
   "execution_count": 3,
   "metadata": {},
   "outputs": [
    {
     "name": "stderr",
     "output_type": "stream",
     "text": [
      "                                                                                \r"
     ]
    }
   ],
   "source": [
    "# Declare countries path and ingest\n",
    "countries_input = \"datasets/countries.parquet\"\n",
    "df_countries = ingest_parquet(input_path = countries_input, spark = spark)\n",
    "\n",
    "# Declare olympics path and ingest\n",
    "olympics_input = \"datasets/olympic_combined.parquet\"\n",
    "df_olympics = ingest_parquet(input_path = olympics_input, spark = spark)"
   ]
  },
  {
   "cell_type": "code",
   "execution_count": 4,
   "metadata": {},
   "outputs": [
    {
     "name": "stderr",
     "output_type": "stream",
     "text": [
      "                                                                                \r"
     ]
    },
    {
     "name": "stdout",
     "output_type": "stream",
     "text": [
      "+------------------+--------------------+-----------+----------+---------------------+--------------------------+-------------+--------------------------------+--------------+----------------+---------------+--------------+-------------+-------------+-------+---------+---------+-----------+--------+-------+\n",
      "|      Country_Name|              Region| Population|Area_sq_mi|Pop_Density_per_sq_mi|Coastline_coast_area_ratio|Net_migration|Infant_mortality_per_1000_births|GDP_per_capita|Literacy_percent|Phones_per_1000|Arable_percent|Crops_percent|Other_percent|Climate|Birthrate|Deathrate|Agriculture|Industry|Service|\n",
      "+------------------+--------------------+-----------+----------+---------------------+--------------------------+-------------+--------------------------------+--------------+----------------+---------------+--------------+-------------+-------------+-------+---------+---------+-----------+--------+-------+\n",
      "|      Afghanistan |ASIA (EX. NEAR EA...|3.1056997E7|  647500.0|                 48.0|                       0.0|        23.06|                          163.07|         700.0|            36.0|            3.2|         12.13|         0.22|        87.65|    1.0|     46.6|    20.34|       0.38|    0.24|   0.38|\n",
      "|          Albania |EASTERN EUROPE   ...|  3581655.0|   28748.0|                124.6|                      1.26|        -4.93|                           21.52|        4500.0|            86.5|           71.2|         21.09|         4.42|        74.49|    3.0|    15.11|     5.22|       0.23|    0.19|   0.58|\n",
      "|          Algeria |NORTHERN AFRICA  ...|3.2930091E7| 2381740.0|                 13.8|                      0.04|        -0.39|                            31.0|        6000.0|            70.0|           78.1|          3.22|         0.25|        96.53|    1.0|    17.14|     4.61|        0.1|     0.6|    0.3|\n",
      "|   American Samoa |OCEANIA          ...|    57794.0|     199.0|                290.4|                     58.29|       -20.71|                            9.27|        8000.0|            97.0|          259.5|          10.0|         15.0|         75.0|    2.0|    22.46|     3.27|       NULL|    NULL|   NULL|\n",
      "|          Andorra |WESTERN EUROPE   ...|    71201.0|     468.0|                152.1|                       0.0|          6.6|                            4.05|       19000.0|           100.0|          497.2|          2.22|          0.0|        97.78|    3.0|     8.71|     6.25|       NULL|    NULL|   NULL|\n",
      "|           Angola |SUB-SAHARAN AFRIC...|1.2127071E7| 1246700.0|                  9.7|                      0.13|          0.0|                          191.19|        1900.0|            42.0|            7.8|          2.41|         0.24|        97.35|   NULL|    45.11|     24.2|        0.1|    0.66|   0.25|\n",
      "|         Anguilla |LATIN AMER. & CAR...|    13477.0|     102.0|                132.1|                      59.8|        10.76|                           21.03|        8600.0|            95.0|          460.0|           0.0|          0.0|        100.0|    2.0|    14.17|     5.34|       0.04|    0.18|   0.78|\n",
      "|Antigua & Barbuda |LATIN AMER. & CAR...|    69108.0|     443.0|                156.0|                     34.54|        -6.15|                           19.46|       11000.0|            89.0|          549.9|         18.18|         4.55|        77.27|    2.0|    16.93|     5.37|       0.04|    0.22|   0.74|\n",
      "|        Argentina |LATIN AMER. & CAR...|3.9921833E7| 2766890.0|                 14.4|                      0.18|         0.61|                           15.18|       11200.0|            97.1|          220.4|         12.31|         0.48|        87.21|    3.0|    16.73|     7.55|        0.1|    0.36|   0.55|\n",
      "|          Armenia |C.W. OF IND. STATES |  2976372.0|   29800.0|                 99.9|                       0.0|        -6.47|                           23.28|        3500.0|            98.6|          195.7|         17.55|          2.3|        80.15|    4.0|    12.07|     8.23|       0.24|    0.34|   0.42|\n",
      "+------------------+--------------------+-----------+----------+---------------------+--------------------------+-------------+--------------------------------+--------------+----------------+---------------+--------------+-------------+-------------+-------+---------+---------+-----------+--------+-------+\n",
      "only showing top 10 rows\n",
      "\n"
     ]
    }
   ],
   "source": [
    "df_countries.show(10)"
   ]
  },
  {
   "cell_type": "markdown",
   "metadata": {},
   "source": [
    "#### Country Code Mapping"
   ]
  },
  {
   "cell_type": "markdown",
   "metadata": {},
   "source": [
    "The below code is not necessary to run in this script, as the join_country_and_olympics function calls these functions within. This is included to show what the intermediate id tables look like.\n",
    "\n",
    "Importantly, these functions sort the distinct country names and country codes alphabetically and assign a monotonically increasing integer to each as an ID. Since there are more country names than distinct country codes, this alphabetic matching is not very accurate in terms of the resulting join; however, it showcases the desired goal of any join, which is to have a common mapping set. See further down in the script for a more dynamic way of joining. "
   ]
  },
  {
   "cell_type": "code",
   "execution_count": 5,
   "metadata": {},
   "outputs": [],
   "source": [
    "# Add Country_ID to df_countries\n",
    "df_countries_id = create_country_ids(df_countries)\n",
    "\n",
    "# Add Country_Code_ID to df_olympics\n",
    "df_olympics_id = create_country_code_ids(df_olympics)\n"
   ]
  },
  {
   "cell_type": "code",
   "execution_count": 6,
   "metadata": {},
   "outputs": [
    {
     "name": "stderr",
     "output_type": "stream",
     "text": [
      "                                                                                \r"
     ]
    },
    {
     "name": "stdout",
     "output_type": "stream",
     "text": [
      "+------------+---------------+\n",
      "|Country_Code|Country_Code_ID|\n",
      "+------------+---------------+\n",
      "|         AFG|              1|\n",
      "|         AIN|              2|\n",
      "|         ALB|              3|\n",
      "|         ALG|              4|\n",
      "|         ARG|              5|\n",
      "+------------+---------------+\n",
      "only showing top 5 rows\n",
      "\n",
      "+---------------+----------+\n",
      "|   Country_Name|Country_ID|\n",
      "+---------------+----------+\n",
      "|   Afghanistan |         1|\n",
      "|       Albania |         2|\n",
      "|       Algeria |         3|\n",
      "|American Samoa |         4|\n",
      "|       Andorra |         5|\n",
      "+---------------+----------+\n",
      "only showing top 5 rows\n",
      "\n"
     ]
    }
   ],
   "source": [
    "df_olympics_id.show(5)\n",
    "df_countries_id.show(5)"
   ]
  },
  {
   "cell_type": "markdown",
   "metadata": {},
   "source": [
    "## Joining countries and olympics\n",
    "\n",
    "The below script uses the join function on the original tables to join the tables together on the monotonically increasing ID's. Within this function, the above ID functions are called and the resulting join generated."
   ]
  },
  {
   "cell_type": "code",
   "execution_count": 7,
   "metadata": {},
   "outputs": [],
   "source": [
    "df_countries_olympics = join_country_and_olympics(df_countries, df_olympics)"
   ]
  },
  {
   "cell_type": "code",
   "execution_count": 8,
   "metadata": {},
   "outputs": [
    {
     "name": "stdout",
     "output_type": "stream",
     "text": [
      "+------------+----+------+------+-----+----+---------------+-----------------+--------------------+-----------+----------+---------------------+--------------------------+-------------+--------------------------------+--------------+----------------+---------------+--------------+-------------+-------------+-------+---------+---------+-----------+--------+-------+----------+\n",
      "|Country_Code|Gold|Silver|Bronze|Total|Year|Country_Code_ID|     Country_Name|              Region| Population|Area_sq_mi|Pop_Density_per_sq_mi|Coastline_coast_area_ratio|Net_migration|Infant_mortality_per_1000_births|GDP_per_capita|Literacy_percent|Phones_per_1000|Arable_percent|Crops_percent|Other_percent|Climate|Birthrate|Deathrate|Agriculture|Industry|Service|Country_ID|\n",
      "+------------+----+------+------+-----+----+---------------+-----------------+--------------------+-----------+----------+---------------------+--------------------------+-------------+--------------------------------+--------------+----------------+---------------+--------------+-------------+-------------+-------+---------+---------+-----------+--------+-------+----------+\n",
      "|         JPN|  27|    14|    17|   58|2020|             65|         Estonia |BALTICS          ...|  1324333.0|   45226.0|                 29.3|                      8.39|        -3.16|                            7.87|       12300.0|            99.8|          333.8|         16.04|         0.45|        83.51|    3.0|    10.04|    13.25|       0.04|    0.29|   0.67|        65|\n",
      "|         FRA|  10|    12|    11|   33|2020|             44|        Colombia |LATIN AMER. & CAR...|4.3593035E7| 1138910.0|                 38.3|                      0.28|        -0.31|                           20.97|        6300.0|            92.5|          176.2|          2.42|         1.67|        95.91|    2.0|    20.48|     5.58|       0.13|    0.34|   0.53|        44|\n",
      "|         GER|  10|    11|    16|   37|2020|             48|    Cook Islands |OCEANIA          ...|    21388.0|     240.0|                 89.1|                      50.0|         NULL|                            NULL|        5000.0|            95.0|          289.9|         17.39|        13.04|        69.57|    2.0|     21.0|     NULL|       0.15|     0.1|   0.75|        48|\n",
      "|         CHN|  38|    32|    19|   89|2020|             23|         Bermuda |NORTHERN AMERICA ...|    65773.0|      53.0|               1241.0|                    194.34|         2.49|                            8.53|       36000.0|            98.0|          851.4|          20.0|          0.0|         80.0|    2.0|     11.4|     7.74|       0.01|     0.1|   0.89|        23|\n",
      "|         AUS|  17|     7|    22|   46|2020|              7|        Anguilla |LATIN AMER. & CAR...|    13477.0|     102.0|                132.1|                      59.8|        10.76|                           21.03|        8600.0|            95.0|          460.0|           0.0|          0.0|        100.0|    2.0|    14.17|     5.34|       0.04|    0.18|   0.78|         7|\n",
      "|         NED|  10|    12|    14|   36|2020|             87|          Guinea |SUB-SAHARAN AFRIC...|  9690222.0|  245857.0|                 39.4|                      0.13|        -3.06|                           90.37|        2100.0|            35.9|            2.7|          3.63|         2.58|        93.79|    2.0|    41.76|    15.48|       0.24|    0.36|    0.4|        87|\n",
      "|         ITA|  10|    10|    20|   40|2020|             62|     El Salvador |LATIN AMER. & CAR...|  6822378.0|   21040.0|                324.3|                      1.46|        -3.74|                            25.1|        4800.0|            80.2|          142.4|         31.85|        12.07|        56.08|    2.0|    26.61|     5.78|        0.1|     0.3|    0.6|        62|\n",
      "|         NOC|NULL|  NULL|  NULL| NULL|2020|             90|           Haiti |LATIN AMER. & CAR...|  8308504.0|   27750.0|                299.4|                      6.38|         -3.4|                           73.45|        1600.0|            52.9|           16.9|          28.3|        11.61|        60.09|    2.0|    36.44|    12.17|       0.28|     0.2|   0.52|        90|\n",
      "|         USA|  39|    41|    33|  113|2020|            131|Marshall Islands |OCEANIA          ...|    60422.0|   11854.0|                  5.1|                      3.12|        -6.04|                           29.45|        1600.0|            93.7|           91.2|         16.67|        38.89|        44.44|    2.0|    33.05|     4.78|       0.32|    0.15|   0.53|       131|\n",
      "|         GBR|  22|    20|    22|   64|2020|             46|Congo, Dem. Rep. |SUB-SAHARAN AFRIC...|6.2660551E7| 2345410.0|                 26.7|                       0.0|          0.0|                           94.69|         700.0|            65.5|            0.2|          2.96|         0.52|        96.52|    2.0|    43.69|    13.27|       0.55|    0.11|   0.34|        46|\n",
      "+------------+----+------+------+-----+----+---------------+-----------------+--------------------+-----------+----------+---------------------+--------------------------+-------------+--------------------------------+--------------+----------------+---------------+--------------+-------------+-------------+-------+---------+---------+-----------+--------+-------+----------+\n",
      "only showing top 10 rows\n",
      "\n"
     ]
    }
   ],
   "source": [
    "df_countries_olympics.show(10)"
   ]
  },
  {
   "cell_type": "markdown",
   "metadata": {},
   "source": [
    "## Extra - Fuzzy Matching! For Fun"
   ]
  },
  {
   "cell_type": "markdown",
   "metadata": {},
   "source": [
    "The below code shows how you could create your own dictionary to pair 3 letter country codes to their names. This is not perfect, but gets closer to the actual result expected!"
   ]
  },
  {
   "cell_type": "code",
   "execution_count": 10,
   "metadata": {},
   "outputs": [
    {
     "name": "stdout",
     "output_type": "stream",
     "text": [
      "+------------+----+------+------+-----+----+------------+--------------------+-----------+----------+---------------------+--------------------------+-------------+--------------------------------+--------------+----------------+---------------+--------------+-------------+-------------+-------+---------+---------+-----------+--------+-------+\n",
      "|Country_Code|Gold|Silver|Bronze|Total|Year|Country_Name|              Region| Population|Area_sq_mi|Pop_Density_per_sq_mi|Coastline_coast_area_ratio|Net_migration|Infant_mortality_per_1000_births|GDP_per_capita|Literacy_percent|Phones_per_1000|Arable_percent|Crops_percent|Other_percent|Climate|Birthrate|Deathrate|Agriculture|Industry|Service|\n",
      "+------------+----+------+------+-----+----+------------+--------------------+-----------+----------+---------------------+--------------------------+-------------+--------------------------------+--------------+----------------+---------------+--------------+-------------+-------------+-------+---------+---------+-----------+--------+-------+\n",
      "|         AFG|   0|     0|     1|    1|2012|Afghanistan |ASIA (EX. NEAR EA...|3.1056997E7|  647500.0|                 48.0|                       0.0|        23.06|                          163.07|         700.0|            36.0|            3.2|         12.13|         0.22|        87.65|    1.0|     46.6|    20.34|       0.38|    0.24|   0.38|\n",
      "|         AIN|   1|     3|     1|    5|2024|    Bahrain |NEAR EAST        ...|   698585.0|     665.0|               1050.5|                     24.21|         1.05|                           17.27|       16900.0|            89.1|          281.3|          2.82|         5.63|        91.55|    1.0|     17.8|     4.14|       0.01|    0.39|   0.61|\n",
      "|         ALB|   0|     0|     2|    2|2024|    Albania |EASTERN EUROPE   ...|  3581655.0|   28748.0|                124.6|                      1.26|        -4.93|                           21.52|        4500.0|            86.5|           71.2|         21.09|         4.42|        74.49|    3.0|    15.11|     5.22|       0.23|    0.19|   0.58|\n",
      "|         ALG|   2|     0|     1|    3|1996|    Algeria |NORTHERN AFRICA  ...|3.2930091E7| 2381740.0|                 13.8|                      0.04|        -0.39|                            31.0|        6000.0|            70.0|           78.1|          3.22|         0.25|        96.53|    1.0|    17.14|     4.61|        0.1|     0.6|    0.3|\n",
      "|         ALG|   1|     1|     3|    5|2000|    Algeria |NORTHERN AFRICA  ...|3.2930091E7| 2381740.0|                 13.8|                      0.04|        -0.39|                            31.0|        6000.0|            70.0|           78.1|          3.22|         0.25|        96.53|    1.0|    17.14|     4.61|        0.1|     0.6|    0.3|\n",
      "|         ALG|   0|     2|     0|    2|2016|    Algeria |NORTHERN AFRICA  ...|3.2930091E7| 2381740.0|                 13.8|                      0.04|        -0.39|                            31.0|        6000.0|            70.0|           78.1|          3.22|         0.25|        96.53|    1.0|    17.14|     4.61|        0.1|     0.6|    0.3|\n",
      "|         ALG|   1|     0|     0|    1|2012|    Algeria |NORTHERN AFRICA  ...|3.2930091E7| 2381740.0|                 13.8|                      0.04|        -0.39|                            31.0|        6000.0|            70.0|           78.1|          3.22|         0.25|        96.53|    1.0|    17.14|     4.61|        0.1|     0.6|    0.3|\n",
      "|         ALG|   2|     0|     1|    3|2024|    Algeria |NORTHERN AFRICA  ...|3.2930091E7| 2381740.0|                 13.8|                      0.04|        -0.39|                            31.0|        6000.0|            70.0|           78.1|          3.22|         0.25|        96.53|    1.0|    17.14|     4.61|        0.1|     0.6|    0.3|\n",
      "|         ARG|   2|     0|     4|    6|2004|  Argentina |LATIN AMER. & CAR...|3.9921833E7| 2766890.0|                 14.4|                      0.18|         0.61|                           15.18|       11200.0|            97.1|          220.4|         12.31|         0.48|        87.21|    3.0|    16.73|     7.55|        0.1|    0.36|   0.55|\n",
      "|         ARG|   0|     2|     1|    3|1996|  Argentina |LATIN AMER. & CAR...|3.9921833E7| 2766890.0|                 14.4|                      0.18|         0.61|                           15.18|       11200.0|            97.1|          220.4|         12.31|         0.48|        87.21|    3.0|    16.73|     7.55|        0.1|    0.36|   0.55|\n",
      "|         ARG|   0|     2|     2|    4|2000|  Argentina |LATIN AMER. & CAR...|3.9921833E7| 2766890.0|                 14.4|                      0.18|         0.61|                           15.18|       11200.0|            97.1|          220.4|         12.31|         0.48|        87.21|    3.0|    16.73|     7.55|        0.1|    0.36|   0.55|\n",
      "|         ARG|   3|     1|     0|    4|2016|  Argentina |LATIN AMER. & CAR...|3.9921833E7| 2766890.0|                 14.4|                      0.18|         0.61|                           15.18|       11200.0|            97.1|          220.4|         12.31|         0.48|        87.21|    3.0|    16.73|     7.55|        0.1|    0.36|   0.55|\n",
      "|         ARG|   1|     1|     2|    4|2012|  Argentina |LATIN AMER. & CAR...|3.9921833E7| 2766890.0|                 14.4|                      0.18|         0.61|                           15.18|       11200.0|            97.1|          220.4|         12.31|         0.48|        87.21|    3.0|    16.73|     7.55|        0.1|    0.36|   0.55|\n",
      "|         ARG|   1|     1|     1|    3|2024|  Argentina |LATIN AMER. & CAR...|3.9921833E7| 2766890.0|                 14.4|                      0.18|         0.61|                           15.18|       11200.0|            97.1|          220.4|         12.31|         0.48|        87.21|    3.0|    16.73|     7.55|        0.1|    0.36|   0.55|\n",
      "|         ARG|   0|     1|     2|    3|2020|  Argentina |LATIN AMER. & CAR...|3.9921833E7| 2766890.0|                 14.4|                      0.18|         0.61|                           15.18|       11200.0|            97.1|          220.4|         12.31|         0.48|        87.21|    3.0|    16.73|     7.55|        0.1|    0.36|   0.55|\n",
      "+------------+----+------+------+-----+----+------------+--------------------+-----------+----------+---------------------+--------------------------+-------------+--------------------------------+--------------+----------------+---------------+--------------+-------------+-------------+-------+---------+---------+-----------+--------+-------+\n",
      "only showing top 15 rows\n",
      "\n"
     ]
    }
   ],
   "source": [
    "## Example of a way to use fuzzy match to get closer to the real country combinations\n",
    "\n",
    "df_countries_olympics_fuzzy = fuzzy_match(\n",
    "    spark,\n",
    "    df_countries,\n",
    "    df_olympics\n",
    ")\n",
    "\n",
    "df_countries_olympics_fuzzy.show(15)"
   ]
  },
  {
   "cell_type": "code",
   "execution_count": 11,
   "metadata": {},
   "outputs": [
    {
     "name": "stderr",
     "output_type": "stream",
     "text": [
      "                                                                                \r"
     ]
    }
   ],
   "source": [
    "# Write the fuzzy joined data as parquet\n",
    "\n",
    "df_countries_olympics_fuzzy.write.parquet(\"country_olympics_join.parquet\")"
   ]
  },
  {
   "cell_type": "markdown",
   "metadata": {},
   "source": []
  }
 ],
 "metadata": {
  "kernelspec": {
   "display_name": "venv",
   "language": "python",
   "name": "python3"
  },
  "language_info": {
   "codemirror_mode": {
    "name": "ipython",
    "version": 3
   },
   "file_extension": ".py",
   "mimetype": "text/x-python",
   "name": "python",
   "nbconvert_exporter": "python",
   "pygments_lexer": "ipython3",
   "version": "3.10.9"
  }
 },
 "nbformat": 4,
 "nbformat_minor": 2
}

{
 "cells": [
  {
   "cell_type": "markdown",
   "metadata": {},
   "source": [
    "## Read Parquet and Normalize"
   ]
  },
  {
   "cell_type": "markdown",
   "metadata": {},
   "source": [
    "#### Imports"
   ]
  },
  {
   "cell_type": "code",
   "execution_count": 1,
   "metadata": {},
   "outputs": [
    {
     "name": "stderr",
     "output_type": "stream",
     "text": [
      "/Users/coleparker/Documents/holman-bi-dev-test/venv/lib/python3.10/site-packages/fuzzywuzzy/fuzz.py:11: UserWarning: Using slow pure-python SequenceMatcher. Install python-Levenshtein to remove this warning\n",
      "  warnings.warn('Using slow pure-python SequenceMatcher. Install python-Levenshtein to remove this warning')\n"
     ]
    }
   ],
   "source": [
    "import os \n",
    "\n",
    "# Move the execution of the folder up one directory\n",
    "os.chdir('..')\n",
    "\n",
    "from pyspark.sql import SparkSession\n",
    "from etl.read_normalize import ingest_parquet, create_country_ids, create_country_code_ids, join_country_and_olympics\n",
    "from fuzzywuzzy import process"
   ]
  },
  {
   "cell_type": "code",
   "execution_count": 2,
   "metadata": {},
   "outputs": [
    {
     "name": "stderr",
     "output_type": "stream",
     "text": [
      "25/01/15 15:21:47 WARN Utils: Your hostname, Coles-MacBook-Pro.local resolves to a loopback address: 127.0.0.1; using 10.0.0.235 instead (on interface en0)\n",
      "25/01/15 15:21:47 WARN Utils: Set SPARK_LOCAL_IP if you need to bind to another address\n",
      "Setting default log level to \"WARN\".\n",
      "To adjust logging level use sc.setLogLevel(newLevel). For SparkR, use setLogLevel(newLevel).\n",
      "25/01/15 15:21:48 WARN NativeCodeLoader: Unable to load native-hadoop library for your platform... using builtin-java classes where applicable\n"
     ]
    }
   ],
   "source": [
    "spark = SparkSession.builder.appName(\"OlympicCountryDataPipeline\").getOrCreate()\n",
    "spark.sparkContext.setLogLevel(\"ERROR\")"
   ]
  },
  {
   "cell_type": "markdown",
   "metadata": {},
   "source": [
    "#### Reading parquet files"
   ]
  },
  {
   "cell_type": "code",
   "execution_count": 4,
   "metadata": {},
   "outputs": [
    {
     "name": "stderr",
     "output_type": "stream",
     "text": [
      "                                                                                \r"
     ]
    }
   ],
   "source": [
    "# Declare countries path \n",
    "countries_input = \"datasets/countries.parquet\"\n",
    "df_countries = ingest_parquet(input_path = countries_input, spark = spark)\n",
    "\n",
    "olympics_input = \"datasets/olympic_combined.parquet\"\n",
    "df_olympics = ingest_parquet(input_path = olympics_input, spark = spark)"
   ]
  },
  {
   "cell_type": "code",
   "execution_count": 8,
   "metadata": {},
   "outputs": [
    {
     "name": "stdout",
     "output_type": "stream",
     "text": [
      "+------------------+--------------------+------------+----------+---------------------+--------------------------+-------------+--------------------------------+--------------+----------------+---------------+--------------+-------------+-------------+-------+---------+---------+-----------+--------+-------+\n",
      "|      Country_Name|              Region|  Population|Area_sq_mi|Pop_Density_per_sq_mi|Coastline_coast_area_ratio|Net_migration|Infant_mortality_per_1000_births|GDP_per_capita|Literacy_percent|Phones_per_1000|Arable_percent|Crops_percent|Other_percent|Climate|Birthrate|Deathrate|Agriculture|Industry|Service|\n",
      "+------------------+--------------------+------------+----------+---------------------+--------------------------+-------------+--------------------------------+--------------+----------------+---------------+--------------+-------------+-------------+-------+---------+---------+-----------+--------+-------+\n",
      "|      Afghanistan |ASIA (EX. NEAR EA...| 3.1056997E7|  647500.0|                 48.0|                       0.0|        23.06|                          163.07|         700.0|            36.0|            3.2|         12.13|         0.22|        87.65|    1.0|     46.6|    20.34|       0.38|    0.24|   0.38|\n",
      "|          Albania |EASTERN EUROPE   ...|   3581655.0|   28748.0|                124.6|                      1.26|        -4.93|                           21.52|        4500.0|            86.5|           71.2|         21.09|         4.42|        74.49|    3.0|    15.11|     5.22|       0.23|    0.19|   0.58|\n",
      "|          Algeria |NORTHERN AFRICA  ...| 3.2930091E7| 2381740.0|                 13.8|                      0.04|        -0.39|                            31.0|        6000.0|            70.0|           78.1|          3.22|         0.25|        96.53|    1.0|    17.14|     4.61|        0.1|     0.6|    0.3|\n",
      "|   American Samoa |OCEANIA          ...|     57794.0|     199.0|                290.4|                     58.29|       -20.71|                            9.27|        8000.0|            97.0|          259.5|          10.0|         15.0|         75.0|    2.0|    22.46|     3.27|       NULL|    NULL|   NULL|\n",
      "|          Andorra |WESTERN EUROPE   ...|     71201.0|     468.0|                152.1|                       0.0|          6.6|                            4.05|       19000.0|           100.0|          497.2|          2.22|          0.0|        97.78|    3.0|     8.71|     6.25|       NULL|    NULL|   NULL|\n",
      "|           Angola |SUB-SAHARAN AFRIC...| 1.2127071E7| 1246700.0|                  9.7|                      0.13|          0.0|                          191.19|        1900.0|            42.0|            7.8|          2.41|         0.24|        97.35|   NULL|    45.11|     24.2|        0.1|    0.66|   0.25|\n",
      "|         Anguilla |LATIN AMER. & CAR...|     13477.0|     102.0|                132.1|                      59.8|        10.76|                           21.03|        8600.0|            95.0|          460.0|           0.0|          0.0|        100.0|    2.0|    14.17|     5.34|       0.04|    0.18|   0.78|\n",
      "|Antigua & Barbuda |LATIN AMER. & CAR...|     69108.0|     443.0|                156.0|                     34.54|        -6.15|                           19.46|       11000.0|            89.0|          549.9|         18.18|         4.55|        77.27|    2.0|    16.93|     5.37|       0.04|    0.22|   0.74|\n",
      "|        Argentina |LATIN AMER. & CAR...| 3.9921833E7| 2766890.0|                 14.4|                      0.18|         0.61|                           15.18|       11200.0|            97.1|          220.4|         12.31|         0.48|        87.21|    3.0|    16.73|     7.55|        0.1|    0.36|   0.55|\n",
      "|          Armenia |C.W. OF IND. STATES |   2976372.0|   29800.0|                 99.9|                       0.0|        -6.47|                           23.28|        3500.0|            98.6|          195.7|         17.55|          2.3|        80.15|    4.0|    12.07|     8.23|       0.24|    0.34|   0.42|\n",
      "|            Aruba |LATIN AMER. & CAR...|     71891.0|     193.0|                372.5|                     35.49|          0.0|                            5.89|       28000.0|            97.0|          516.1|         10.53|          0.0|        89.47|    2.0|    11.03|     6.68|        0.0|    0.33|   0.66|\n",
      "|        Australia |OCEANIA          ...| 2.0264082E7| 7686850.0|                  2.6|                      0.34|         3.98|                            4.69|       29000.0|           100.0|          565.5|          6.55|         0.04|        93.41|    1.0|    12.14|     7.51|       0.04|    0.26|    0.7|\n",
      "|          Austria |WESTERN EUROPE   ...|   8192880.0|   83870.0|                 97.7|                       0.0|          2.0|                            4.66|       30000.0|            98.0|          452.2|         16.91|         0.86|        82.23|    3.0|     8.74|     9.76|       0.02|     0.3|   0.68|\n",
      "|       Azerbaijan |C.W. OF IND. STATES |   7961619.0|   86600.0|                 91.9|                       0.0|         -4.9|                           81.74|        3400.0|            97.0|          137.1|         19.63|         2.71|        77.66|    1.0|    20.74|     9.75|       0.14|    0.46|    0.4|\n",
      "|     Bahamas, The |LATIN AMER. & CAR...|    303770.0|   13940.0|                 21.8|                     25.41|         -2.2|                           25.21|       16700.0|            95.6|          460.6|           0.8|          0.4|         98.8|    2.0|    17.57|     9.05|       0.03|    0.07|    0.9|\n",
      "|          Bahrain |NEAR EAST        ...|    698585.0|     665.0|               1050.5|                     24.21|         1.05|                           17.27|       16900.0|            89.1|          281.3|          2.82|         5.63|        91.55|    1.0|     17.8|     4.14|       0.01|    0.39|   0.61|\n",
      "|       Bangladesh |ASIA (EX. NEAR EA...|1.47365352E8|  144000.0|               1023.4|                       0.4|        -0.71|                            62.6|        1900.0|            43.1|            7.3|         62.11|         3.07|        34.82|    2.0|     29.8|     8.27|        0.2|     0.2|    0.6|\n",
      "|         Barbados |LATIN AMER. & CAR...|    279912.0|     431.0|                649.5|                     22.51|        -0.31|                            12.5|       15700.0|            97.4|          481.9|         37.21|         2.33|        60.46|    2.0|    12.71|     8.67|       0.06|    0.16|   0.78|\n",
      "|          Belarus |C.W. OF IND. STATES | 1.0293011E7|  207600.0|                 49.6|                       0.0|         2.54|                           13.37|        6100.0|            99.6|          319.1|         29.55|          0.6|        69.85|    4.0|    11.16|    14.02|       0.09|    0.32|   0.59|\n",
      "|          Belgium |WESTERN EUROPE   ...| 1.0379067E7|   30528.0|                340.0|                      0.22|         1.23|                            4.68|       29100.0|            98.0|          462.6|         23.28|          0.4|        76.32|    3.0|    10.38|    10.27|       0.01|    0.24|   0.75|\n",
      "+------------------+--------------------+------------+----------+---------------------+--------------------------+-------------+--------------------------------+--------------+----------------+---------------+--------------+-------------+-------------+-------+---------+---------+-----------+--------+-------+\n",
      "only showing top 20 rows\n",
      "\n"
     ]
    }
   ],
   "source": [
    "df_countries.show()"
   ]
  },
  {
   "cell_type": "markdown",
   "metadata": {},
   "source": [
    "#### Country Code Mapping"
   ]
  },
  {
   "cell_type": "code",
   "execution_count": 9,
   "metadata": {},
   "outputs": [],
   "source": [
    "# Add Country_ID to df_countries\n",
    "df_countries_id = create_country_ids(df_countries)\n",
    "\n",
    "# Add Country_Code_ID to df_olympics\n",
    "df_olympics_id = create_country_code_ids(df_olympics)\n"
   ]
  },
  {
   "cell_type": "code",
   "execution_count": 10,
   "metadata": {},
   "outputs": [
    {
     "name": "stdout",
     "output_type": "stream",
     "text": [
      "+------------+---------------+\n",
      "|Country_Code|Country_Code_ID|\n",
      "+------------+---------------+\n",
      "|         AFG|              1|\n",
      "|         AIN|              2|\n",
      "|         ALB|              3|\n",
      "|         ALG|              4|\n",
      "|         ARG|              5|\n",
      "|         ARM|              6|\n",
      "|         AUS|              7|\n",
      "|         AUT|              8|\n",
      "|         AZE|              9|\n",
      "|         BAH|             10|\n",
      "|         BAR|             11|\n",
      "|         BDI|             12|\n",
      "|         BEL|             13|\n",
      "|         BER|             14|\n",
      "|         BLR|             15|\n",
      "|         BOT|             16|\n",
      "|         BRA|             17|\n",
      "|         BRN|             18|\n",
      "|         BUL|             19|\n",
      "|         BUR|             20|\n",
      "+------------+---------------+\n",
      "only showing top 20 rows\n",
      "\n"
     ]
    }
   ],
   "source": [
    "df_olympics_id.show()"
   ]
  },
  {
   "cell_type": "markdown",
   "metadata": {},
   "source": [
    "## Joining countries and olympics"
   ]
  },
  {
   "cell_type": "code",
   "execution_count": 11,
   "metadata": {},
   "outputs": [],
   "source": [
    "df_countries_olympics = join_country_and_olympics(df_countries, df_olympics)"
   ]
  },
  {
   "cell_type": "code",
   "execution_count": 16,
   "metadata": {},
   "outputs": [
    {
     "name": "stdout",
     "output_type": "stream",
     "text": [
      "+------------+----+------+------+-----+----+---------------+-------------------+--------------------+------------+----------+---------------------+--------------------------+-------------+--------------------------------+--------------+----------------+---------------+--------------+-------------+-------------+-------+---------+---------+-----------+--------+-------+----------+\n",
      "|Country_Code|Gold|Silver|Bronze|Total|Year|Country_Code_ID|       Country_Name|              Region|  Population|Area_sq_mi|Pop_Density_per_sq_mi|Coastline_coast_area_ratio|Net_migration|Infant_mortality_per_1000_births|GDP_per_capita|Literacy_percent|Phones_per_1000|Arable_percent|Crops_percent|Other_percent|Climate|Birthrate|Deathrate|Agriculture|Industry|Service|Country_ID|\n",
      "+------------+----+------+------+-----+----+---------------+-------------------+--------------------+------------+----------+---------------------+--------------------------+-------------+--------------------------------+--------------+----------------+---------------+--------------+-------------+-------------+-------+---------+---------+-----------+--------+-------+----------+\n",
      "|         AUS|  17|     7|    22|   46|2020|              7|          Anguilla |LATIN AMER. & CAR...|     13477.0|     102.0|                132.1|                      59.8|        10.76|                           21.03|        8600.0|            95.0|          460.0|           0.0|          0.0|        100.0|    2.0|    14.17|     5.34|       0.04|    0.18|   0.78|         7|\n",
      "|         AUS|  16|    25|    17|   58|2000|              7|          Anguilla |LATIN AMER. & CAR...|     13477.0|     102.0|                132.1|                      59.8|        10.76|                           21.03|        8600.0|            95.0|          460.0|           0.0|          0.0|        100.0|    2.0|    14.17|     5.34|       0.04|    0.18|   0.78|         7|\n",
      "|         AUS|   1|     2|     1|    4|2022|              7|          Anguilla |LATIN AMER. & CAR...|     13477.0|     102.0|                132.1|                      59.8|        10.76|                           21.03|        8600.0|            95.0|          460.0|           0.0|          0.0|        100.0|    2.0|    14.17|     5.34|       0.04|    0.18|   0.78|         7|\n",
      "|         AUS|   2|     0|     0|    2|2002|              7|          Anguilla |LATIN AMER. & CAR...|     13477.0|     102.0|                132.1|                      59.8|        10.76|                           21.03|        8600.0|            95.0|          460.0|           0.0|          0.0|        100.0|    2.0|    14.17|     5.34|       0.04|    0.18|   0.78|         7|\n",
      "|         AUT|   7|     7|     4|   18|2022|              8| Antigua & Barbuda |LATIN AMER. & CAR...|     69108.0|     443.0|                156.0|                     34.54|        -6.15|                           19.46|       11000.0|            89.0|          549.9|         18.18|         4.55|        77.27|    2.0|    16.93|     5.37|       0.04|    0.22|   0.74|         8|\n",
      "|         AUT|   3|     4|    10|   17|2002|              8| Antigua & Barbuda |LATIN AMER. & CAR...|     69108.0|     443.0|                156.0|                     34.54|        -6.15|                           19.46|       11000.0|            89.0|          549.9|         18.18|         4.55|        77.27|    2.0|    16.93|     5.37|       0.04|    0.22|   0.74|         8|\n",
      "|         BRA|   7|     6|     8|   21|2020|             17|        Bangladesh |ASIA (EX. NEAR EA...|1.47365352E8|  144000.0|               1023.4|                       0.4|        -0.71|                            62.6|        1900.0|            43.1|            7.3|         62.11|         3.07|        34.82|    2.0|     29.8|     8.27|        0.2|     0.2|    0.6|        17|\n",
      "|         BUL|   5|     6|     2|   13|2000|             19|           Belarus |C.W. OF IND. STATES | 1.0293011E7|  207600.0|                 49.6|                       0.0|         2.54|                           13.37|        6100.0|            99.6|          319.1|         29.55|          0.6|        69.85|    4.0|    11.16|    14.02|       0.09|    0.32|   0.59|        19|\n",
      "|         BUL|   0|     1|     2|    3|2002|             19|           Belarus |C.W. OF IND. STATES | 1.0293011E7|  207600.0|                 49.6|                       0.0|         2.54|                           13.37|        6100.0|            99.6|          319.1|         29.55|          0.6|        69.85|    4.0|    11.16|    14.02|       0.09|    0.32|   0.59|        19|\n",
      "|         CAN|   7|     7|    10|   24|2020|             21|            Belize |LATIN AMER. & CAR...|    287730.0|   22966.0|                 12.5|                      1.68|          0.0|                           25.69|        4900.0|            94.1|          115.7|          2.85|         1.71|        95.44|    2.0|    28.84|     5.72|       0.14|    0.15|   0.61|        21|\n",
      "|         CAN|   4|     8|    14|   26|2022|             21|            Belize |LATIN AMER. & CAR...|    287730.0|   22966.0|                 12.5|                      1.68|          0.0|                           25.69|        4900.0|            94.1|          115.7|          2.85|         1.71|        95.44|    2.0|    28.84|     5.72|       0.14|    0.15|   0.61|        21|\n",
      "|         CAN|   7|     3|     7|   17|2002|             21|            Belize |LATIN AMER. & CAR...|    287730.0|   22966.0|                 12.5|                      1.68|          0.0|                           25.69|        4900.0|            94.1|          115.7|          2.85|         1.71|        95.44|    2.0|    28.84|     5.72|       0.14|    0.15|   0.61|        21|\n",
      "|         CHN|  38|    32|    19|   89|2020|             23|           Bermuda |NORTHERN AMERICA ...|     65773.0|      53.0|               1241.0|                    194.34|         2.49|                            8.53|       36000.0|            98.0|          851.4|          20.0|          0.0|         80.0|    2.0|     11.4|     7.74|       0.01|     0.1|   0.89|        23|\n",
      "|         CHN|  28|    16|    14|   58|2000|             23|           Bermuda |NORTHERN AMERICA ...|     65773.0|      53.0|               1241.0|                    194.34|         2.49|                            8.53|       36000.0|            98.0|          851.4|          20.0|          0.0|         80.0|    2.0|     11.4|     7.74|       0.01|     0.1|   0.89|        23|\n",
      "|         CHN|   9|     4|     2|   15|2022|             23|           Bermuda |NORTHERN AMERICA ...|     65773.0|      53.0|               1241.0|                    194.34|         2.49|                            8.53|       36000.0|            98.0|          851.4|          20.0|          0.0|         80.0|    2.0|     11.4|     7.74|       0.01|     0.1|   0.89|        23|\n",
      "|         CHN|   2|     2|     4|    8|2002|             23|           Bermuda |NORTHERN AMERICA ...|     65773.0|      53.0|               1241.0|                    194.34|         2.49|                            8.53|       36000.0|            98.0|          851.4|          20.0|          0.0|         80.0|    2.0|     11.4|     7.74|       0.01|     0.1|   0.89|        23|\n",
      "|         CRO|   3|     1|     0|    4|2002|             29|British Virgin Is. |LATIN AMER. & CAR...|     23098.0|     153.0|                151.0|                     52.29|        10.01|                           18.05|       16000.0|            97.8|          506.5|          20.0|         6.67|        73.33|    2.0|    14.89|     4.42|       0.02|    0.06|   0.92|        29|\n",
      "|         CUB|   7|     3|     5|   15|2020|             30|            Brunei |ASIA (EX. NEAR EA...|    379444.0|    5770.0|                 65.8|                      2.79|         3.59|                           12.61|       18600.0|            93.9|          237.2|          0.57|         0.76|        98.67|    2.0|    18.79|     3.45|       0.04|    0.56|    0.4|        30|\n",
      "|         CUB|  11|    11|     7|   29|2000|             30|            Brunei |ASIA (EX. NEAR EA...|    379444.0|    5770.0|                 65.8|                      2.79|         3.59|                           12.61|       18600.0|            93.9|          237.2|          0.57|         0.76|        98.67|    2.0|    18.79|     3.45|       0.04|    0.56|    0.4|        30|\n",
      "|         CZE|   4|     4|     3|   11|2020|             32|      Burkina Faso |SUB-SAHARAN AFRIC...| 1.3902972E7|  274200.0|                 50.7|                       0.0|          0.0|                           97.57|        1100.0|            26.6|            7.0|         14.43|         0.19|        85.38|    2.0|    45.62|     15.6|       0.32|     0.2|   0.48|        32|\n",
      "+------------+----+------+------+-----+----+---------------+-------------------+--------------------+------------+----------+---------------------+--------------------------+-------------+--------------------------------+--------------+----------------+---------------+--------------+-------------+-------------+-------+---------+---------+-----------+--------+-------+----------+\n",
      "only showing top 20 rows\n",
      "\n"
     ]
    }
   ],
   "source": [
    "df_countries_olympics.show()"
   ]
  },
  {
   "cell_type": "markdown",
   "metadata": {},
   "source": [
    "## Extra - Fuzzy Matching! For Fun"
   ]
  },
  {
   "cell_type": "markdown",
   "metadata": {},
   "source": [
    "The below code shows how you could create your own dictionary to pair 3 letter country codes to their names. This is not perfect, but gets closer to the actual result expected!"
   ]
  },
  {
   "cell_type": "code",
   "execution_count": 11,
   "metadata": {},
   "outputs": [
    {
     "name": "stderr",
     "output_type": "stream",
     "text": [
      "                                                                                \r"
     ]
    },
    {
     "data": {
      "text/plain": [
       "[('AFG', 'Afghanistan '),\n",
       " ('AIN', 'Bahrain '),\n",
       " ('ALB', 'Albania '),\n",
       " ('ALG', 'Algeria '),\n",
       " ('ARG', 'Argentina '),\n",
       " ('ARM', 'Armenia '),\n",
       " ('AUS', 'Australia '),\n",
       " ('AUT', 'Guinea-Bissau '),\n",
       " ('AZE', 'Azerbaijan '),\n",
       " ('BAH', 'Bahamas, The '),\n",
       " ('BAR', 'Antigua & Barbuda '),\n",
       " ('BDI', 'British Virgin Is. '),\n",
       " ('BEL', 'Belarus '),\n",
       " ('BER', 'Bermuda '),\n",
       " ('BLR', 'Barbados '),\n",
       " ('BOT', 'Botswana '),\n",
       " ('BRA', 'Brazil '),\n",
       " ('BRN', 'Brunei '),\n",
       " ('BUL', 'Bulgaria '),\n",
       " ('BUR', 'Burkina Faso '),\n",
       " ('CAN', 'American Samoa '),\n",
       " ('CHI', 'Chile '),\n",
       " ('CHN', 'China '),\n",
       " ('CIV', 'Bolivia '),\n",
       " ('CMR', 'Cambodia '),\n",
       " ('COL', 'Colombia '),\n",
       " ('CPV', 'Cape Verde '),\n",
       " ('CRC', 'Croatia '),\n",
       " ('CRO', 'Micronesia, Fed. St. '),\n",
       " ('CUB', 'Cuba '),\n",
       " ('CYP', 'Cyprus '),\n",
       " ('CZE', 'Czech Republic '),\n",
       " ('DEN', 'Denmark '),\n",
       " ('DMA', 'Canada '),\n",
       " ('DOM', 'Dominica '),\n",
       " ('ECU', 'Ecuador '),\n",
       " ('EGY', 'Egypt '),\n",
       " ('ERI', 'Eritrea '),\n",
       " ('ESP', 'Maldives '),\n",
       " ('EST', 'Estonia '),\n",
       " ('ETH', 'Ethiopia '),\n",
       " ('FIJ', 'Fiji '),\n",
       " ('FIN', 'Finland '),\n",
       " ('FRA', 'France '),\n",
       " ('GAB', 'Gabon '),\n",
       " ('GBR', 'Burma '),\n",
       " ('GEO', 'Georgia '),\n",
       " ('GER', 'Germany '),\n",
       " ('GHA', 'Ghana '),\n",
       " ('GRE', 'Greece '),\n",
       " ('GRN', 'Burundi '),\n",
       " ('GUA', 'Guadeloupe '),\n",
       " ('HKG', 'French Guiana '),\n",
       " ('HUN', 'Hungary '),\n",
       " ('INA', 'Bosnia & Herzegovina '),\n",
       " ('IND', 'India '),\n",
       " ('IOA', 'Austria '),\n",
       " ('IRI', 'Kiribati '),\n",
       " ('IRL', 'Israel '),\n",
       " ('ISL', 'Cayman Islands '),\n",
       " ('ISR', 'Saint Kitts & Nevis '),\n",
       " ('ITA', 'Italy '),\n",
       " ('JAM', 'Jamaica '),\n",
       " ('JOR', 'Jordan '),\n",
       " ('JPN', 'Japan '),\n",
       " ('KAZ', 'Kazakhstan '),\n",
       " ('KEN', 'Kenya '),\n",
       " ('KGZ', 'Gaza Strip '),\n",
       " ('KOR', 'Korea, North '),\n",
       " ('KOS', 'Comoros '),\n",
       " ('KSA', 'Sri Lanka '),\n",
       " ('KUW', 'Kuwait '),\n",
       " ('LAT', 'Latvia '),\n",
       " ('LCA', 'Angola '),\n",
       " ('LIE', 'Liechtenstein '),\n",
       " ('LTU', 'Gibraltar '),\n",
       " ('LVA', 'El Salvador '),\n",
       " ('MAR', 'Marshall Islands '),\n",
       " ('MAS', 'Panama '),\n",
       " ('MDA', 'Grenada '),\n",
       " ('MEX', 'Mexico '),\n",
       " ('MGL', 'Bangladesh '),\n",
       " ('MKD', 'Madagascar '),\n",
       " ('MNE', 'Suriname '),\n",
       " ('MOZ', 'Mozambique '),\n",
       " ('NAM', 'Namibia '),\n",
       " ('NED', 'Iceland '),\n",
       " ('NGR', 'Niger '),\n",
       " ('NIG', 'Nigeria '),\n",
       " ('NOC', 'San Marino '),\n",
       " ('NOR', 'Norway '),\n",
       " ('NZL', 'Greenland '),\n",
       " ('OAR', 'East Timor '),\n",
       " ('PAK', 'Pakistan '),\n",
       " ('PAN', 'Spain '),\n",
       " ('PAR', 'Paraguay '),\n",
       " ('PER', 'Peru '),\n",
       " ('PHI', 'Philippines '),\n",
       " ('POL', 'French Polynesia '),\n",
       " ('POR', 'Portugal '),\n",
       " ('PRK', 'Sao Tome & Principe '),\n",
       " ('PUR', 'Congo, Repub. of the '),\n",
       " ('QAT', 'Qatar '),\n",
       " ('ROC', 'Morocco '),\n",
       " ('ROT', 'Cameroon '),\n",
       " ('ROU', 'Nauru '),\n",
       " ('RSA', 'Russia '),\n",
       " ('RUS', 'Aruba '),\n",
       " ('SCG', 'Honduras '),\n",
       " ('SIN', 'Singapore '),\n",
       " ('SLO', 'Slovakia '),\n",
       " ('SMR', 'Martinique '),\n",
       " ('SRB', 'Serbia '),\n",
       " ('SRI', 'Syria '),\n",
       " ('SUI', 'Anguilla '),\n",
       " ('SVK', 'Mauritius '),\n",
       " ('SWE', 'Sweden '),\n",
       " ('SYR', 'Guernsey '),\n",
       " ('TGA', 'Tonga '),\n",
       " ('THA', 'Thailand '),\n",
       " ('TJK', 'Tajikistan '),\n",
       " ('TKM', 'Guatemala '),\n",
       " ('TPE', \"Cote d'Ivoire \"),\n",
       " ('TTO', 'Equatorial Guinea '),\n",
       " ('TUN', 'Tunisia '),\n",
       " ('TUR', 'Turkey '),\n",
       " ('UAE', 'Nicaragua '),\n",
       " ('UGA', 'Uganda '),\n",
       " ('UKR', 'Ukraine '),\n",
       " ('URU', 'Uruguay '),\n",
       " ('USA', 'Bhutan '),\n",
       " ('UZB', 'Uzbekistan '),\n",
       " ('VEN', 'Slovenia '),\n",
       " ('VIE', 'Vietnam '),\n",
       " ('YUG', 'Kyrgyzstan '),\n",
       " ('ZAM', 'Zambia '),\n",
       " ('ZIM', 'Zimbabwe ')]"
      ]
     },
     "execution_count": 11,
     "metadata": {},
     "output_type": "execute_result"
    }
   ],
   "source": [
    "## Example of a way to use fuzzy match to get closer to the real country combinations\n",
    "\n",
    "country_codes = (df_olympics\n",
    "                 .select(\"Country_Code\")\n",
    "                 .distinct()\n",
    "                 .orderBy(\"Country_Code\")\n",
    "                 .rdd.map(lambda x: x[0]).collect()\n",
    "                 )\n",
    "\n",
    "country_names = (df_countries\n",
    "                 .select(\"Country_Name\")\n",
    "                 .distinct()\n",
    "                 .orderBy(\"Country_Name\")\n",
    "                 .rdd.map(lambda x: x[0]).collect()\n",
    "                 )\n",
    "\n",
    "matches = []\n",
    "matched_countries = set()  # A set to keep track of matched country names\n",
    "\n",
    "for code in country_codes:\n",
    "    # Filter out the already matched countries\n",
    "    remaining_countries = [name for name in country_names if name not in matched_countries]\n",
    "    \n",
    "    # Find the best match from the remaining countries\n",
    "    best_match = process.extractOne(code, remaining_countries)\n",
    "    \n",
    "    # If a best match is found, append it to the list of matches\n",
    "    if best_match:\n",
    "        matched_countries.add(best_match[0])  # Add this matched country to the set\n",
    "        matches.append((code, best_match[0]))  # (Country Code, Best Match Country Name, Match Score)\n",
    "\n",
    "matches"
   ]
  },
  {
   "cell_type": "markdown",
   "metadata": {},
   "source": []
  }
 ],
 "metadata": {
  "kernelspec": {
   "display_name": "venv",
   "language": "python",
   "name": "python3"
  },
  "language_info": {
   "codemirror_mode": {
    "name": "ipython",
    "version": 3
   },
   "file_extension": ".py",
   "mimetype": "text/x-python",
   "name": "python",
   "nbconvert_exporter": "python",
   "pygments_lexer": "ipython3",
   "version": "3.10.9"
  }
 },
 "nbformat": 4,
 "nbformat_minor": 2
}

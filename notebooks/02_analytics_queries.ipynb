{
 "cells": [
  {
   "cell_type": "markdown",
   "metadata": {},
   "source": [
    "## Analytics Queries"
   ]
  },
  {
   "cell_type": "code",
   "execution_count": 1,
   "metadata": {},
   "outputs": [
    {
     "name": "stderr",
     "output_type": "stream",
     "text": [
      "/Users/coleparker/Documents/holman-bi-dev-test/venv/lib/python3.10/site-packages/fuzzywuzzy/fuzz.py:11: UserWarning: Using slow pure-python SequenceMatcher. Install python-Levenshtein to remove this warning\n",
      "  warnings.warn('Using slow pure-python SequenceMatcher. Install python-Levenshtein to remove this warning')\n"
     ]
    }
   ],
   "source": [
    "import os \n",
    "\n",
    "# Move the execution of the folder up one directory\n",
    "os.chdir('..')\n",
    "\n",
    "from pyspark.sql import SparkSession\n",
    "from etl.read_normalize import ingest_parquet\n",
    "from pyspark.sql.functions import sum, col"
   ]
  },
  {
   "cell_type": "code",
   "execution_count": 2,
   "metadata": {},
   "outputs": [
    {
     "name": "stderr",
     "output_type": "stream",
     "text": [
      "25/01/16 07:15:38 WARN Utils: Your hostname, Coles-MacBook-Pro.local resolves to a loopback address: 127.0.0.1; using 10.0.0.235 instead (on interface en0)\n",
      "25/01/16 07:15:38 WARN Utils: Set SPARK_LOCAL_IP if you need to bind to another address\n",
      "Setting default log level to \"WARN\".\n",
      "To adjust logging level use sc.setLogLevel(newLevel). For SparkR, use setLogLevel(newLevel).\n",
      "25/01/16 07:15:39 WARN NativeCodeLoader: Unable to load native-hadoop library for your platform... using builtin-java classes where applicable\n",
      "25/01/16 07:15:41 WARN Utils: Service 'SparkUI' could not bind on port 4040. Attempting port 4041.\n"
     ]
    }
   ],
   "source": [
    "spark = SparkSession.builder.appName(\"OlympicCountryDataPipeline\").getOrCreate()"
   ]
  },
  {
   "cell_type": "code",
   "execution_count": 3,
   "metadata": {},
   "outputs": [
    {
     "name": "stderr",
     "output_type": "stream",
     "text": [
      "                                                                                \r"
     ]
    }
   ],
   "source": [
    "df_denormalized = ingest_parquet(\n",
    "    input_path = \"datasets/countries_olympics_join.parquet\"\n",
    "    , spark = spark\n",
    ")"
   ]
  },
  {
   "cell_type": "code",
   "execution_count": 4,
   "metadata": {},
   "outputs": [
    {
     "name": "stderr",
     "output_type": "stream",
     "text": [
      "25/01/16 07:15:50 WARN SparkStringUtils: Truncated the string representation of a plan since it was too large. This behavior can be adjusted by setting 'spark.sql.debug.maxToStringFields'.\n",
      "                                                                                \r"
     ]
    },
    {
     "name": "stdout",
     "output_type": "stream",
     "text": [
      "+------------+----+------+------+-----+----+------------+--------------------+-----------+----------+---------------------+--------------------------+-------------+--------------------------------+--------------+----------------+---------------+--------------+-------------+-------------+-------+---------+---------+-----------+--------+-------+\n",
      "|Country_Code|Gold|Silver|Bronze|Total|Year|Country_Name|              Region| Population|Area_sq_mi|Pop_Density_per_sq_mi|Coastline_coast_area_ratio|Net_migration|Infant_mortality_per_1000_births|GDP_per_capita|Literacy_percent|Phones_per_1000|Arable_percent|Crops_percent|Other_percent|Climate|Birthrate|Deathrate|Agriculture|Industry|Service|\n",
      "+------------+----+------+------+-----+----+------------+--------------------+-----------+----------+---------------------+--------------------------+-------------+--------------------------------+--------------+----------------+---------------+--------------+-------------+-------------+-------+---------+---------+-----------+--------+-------+\n",
      "|         DOM|   1|     0|     0|    1|2004|   Dominica |LATIN AMER. & CAR...|    68910.0|     754.0|                 91.4|                     19.63|       -13.87|                           14.15|        5400.0|            94.0|          304.8|          6.67|         20.0|        73.33|    2.0|    15.27|     6.73|       0.18|    0.33|    0.5|\n",
      "|         DOM|   0|     0|     1|    1|2016|   Dominica |LATIN AMER. & CAR...|    68910.0|     754.0|                 91.4|                     19.63|       -13.87|                           14.15|        5400.0|            94.0|          304.8|          6.67|         20.0|        73.33|    2.0|    15.27|     6.73|       0.18|    0.33|    0.5|\n",
      "|         DOM|   1|     1|     0|    2|2012|   Dominica |LATIN AMER. & CAR...|    68910.0|     754.0|                 91.4|                     19.63|       -13.87|                           14.15|        5400.0|            94.0|          304.8|          6.67|         20.0|        73.33|    2.0|    15.27|     6.73|       0.18|    0.33|    0.5|\n",
      "|         DOM|   1|     0|     1|    2|2024|   Dominica |LATIN AMER. & CAR...|    68910.0|     754.0|                 91.4|                     19.63|       -13.87|                           14.15|        5400.0|            94.0|          304.8|          6.67|         20.0|        73.33|    2.0|    15.27|     6.73|       0.18|    0.33|    0.5|\n",
      "|         DOM|   0|     3|     2|    5|2020|   Dominica |LATIN AMER. & CAR...|    68910.0|     754.0|                 91.4|                     19.63|       -13.87|                           14.15|        5400.0|            94.0|          304.8|          6.67|         20.0|        73.33|    2.0|    15.27|     6.73|       0.18|    0.33|    0.5|\n",
      "|         ECU|   1|     0|     0|    1|1996|    Ecuador |LATIN AMER. & CAR...| 1.354751E7|  283560.0|                 47.8|                      0.79|        -8.58|                           23.66|        3300.0|            92.5|          125.6|          5.85|         4.93|        89.22|    2.0|    22.29|     4.23|       0.07|    0.31|   0.62|\n",
      "|         ECU|   1|     2|     2|    5|2024|    Ecuador |LATIN AMER. & CAR...| 1.354751E7|  283560.0|                 47.8|                      0.79|        -8.58|                           23.66|        3300.0|            92.5|          125.6|          5.85|         4.93|        89.22|    2.0|    22.29|     4.23|       0.07|    0.31|   0.62|\n",
      "|         ECU|   2|     1|     0|    3|2020|    Ecuador |LATIN AMER. & CAR...| 1.354751E7|  283560.0|                 47.8|                      0.79|        -8.58|                           23.66|        3300.0|            92.5|          125.6|          5.85|         4.93|        89.22|    2.0|    22.29|     4.23|       0.07|    0.31|   0.62|\n",
      "|         EGY|   1|     1|     3|    5|2004|      Egypt |NORTHERN AFRICA  ...|7.8887007E7| 1001450.0|                 78.8|                      0.24|        -0.22|                           32.59|        4000.0|            57.7|          131.8|          2.87|         0.48|        96.65|    1.0|    22.94|     5.23|       0.15|    0.36|   0.49|\n",
      "|         EGY|   0|     0|     3|    3|2016|      Egypt |NORTHERN AFRICA  ...|7.8887007E7| 1001450.0|                 78.8|                      0.24|        -0.22|                           32.59|        4000.0|            57.7|          131.8|          2.87|         0.48|        96.65|    1.0|    22.94|     5.23|       0.15|    0.36|   0.49|\n",
      "+------------+----+------+------+-----+----+------------+--------------------+-----------+----------+---------------------+--------------------------+-------------+--------------------------------+--------------+----------------+---------------+--------------+-------------+-------------+-------+---------+---------+-----------+--------+-------+\n",
      "only showing top 10 rows\n",
      "\n"
     ]
    }
   ],
   "source": [
    "df_denormalized.show(10)"
   ]
  },
  {
   "cell_type": "markdown",
   "metadata": {},
   "source": [
    "#### Question 1\n",
    "Who has won the most silver medals across all years of data?\n",
    "\n",
    "A: Looks to be USA. In my fuzzy text matching, this ended up getting joined to Bhutan."
   ]
  },
  {
   "cell_type": "code",
   "execution_count": 8,
   "metadata": {},
   "outputs": [
    {
     "name": "stderr",
     "output_type": "stream",
     "text": [
      "                                                                                \r"
     ]
    },
    {
     "data": {
      "text/plain": [
       "[Row(Country_Name='Bhutan ', Country_Code='USA', silver_total=315),\n",
       " Row(Country_Name='China ', Country_Code='CHN', silver_total=192),\n",
       " Row(Country_Name='Germany ', Country_Code='GER', silver_total=188),\n",
       " Row(Country_Name='Aruba ', Country_Code='RUS', silver_total=151),\n",
       " Row(Country_Name='France ', Country_Code='FRA', silver_total=124)]"
      ]
     },
     "execution_count": 8,
     "metadata": {},
     "output_type": "execute_result"
    }
   ],
   "source": [
    "q1_work = (df_denormalized\n",
    "           .groupBy(\"Country_Name\", \"Country_Code\")\n",
    "           .agg(sum(\"Silver\").alias(\"silver_total\"))\n",
    "           .orderBy(\"silver_total\", ascending = False)\n",
    "           )\n",
    "\n",
    "q1_work.head(5)"
   ]
  },
  {
   "cell_type": "markdown",
   "metadata": {},
   "source": [
    "#### Question 2\n",
    "Which year did that country win the most total medals?\n",
    "\n",
    "A: 2024"
   ]
  },
  {
   "cell_type": "code",
   "execution_count": 12,
   "metadata": {},
   "outputs": [
    {
     "data": {
      "text/plain": [
       "[Row(Country_Code='USA', Total=126, Year='2024'),\n",
       " Row(Country_Code='USA', Total=121, Year='2016'),\n",
       " Row(Country_Code='USA', Total=113, Year='2020'),\n",
       " Row(Country_Code='USA', Total=104, Year='2012'),\n",
       " Row(Country_Code='USA', Total=101, Year='2004')]"
      ]
     },
     "execution_count": 12,
     "metadata": {},
     "output_type": "execute_result"
    }
   ],
   "source": [
    "q2_work = (df_denormalized\n",
    "           .filter(col(\"Country_Code\") == \"USA\")\n",
    "           .orderBy(\"Total\", ascending = False)\n",
    "           ).select(\"Country_Code\", \"Total\", \"Year\")\n",
    "\n",
    "q2_work.head(5)"
   ]
  },
  {
   "cell_type": "markdown",
   "metadata": {},
   "source": [
    "#### Question 3 \n",
    "Is there a correlation between Population Density and winning medals?\n",
    "\n",
    "A: From the extremely low correlation value, we can confidently say no. Note that the lack of integrity of the join undoubtedly impacted this result."
   ]
  },
  {
   "cell_type": "code",
   "execution_count": 14,
   "metadata": {},
   "outputs": [
    {
     "name": "stdout",
     "output_type": "stream",
     "text": [
      "-0.05221361513497098\n"
     ]
    }
   ],
   "source": [
    "q3_work = (df_denormalized\n",
    "           .groupBy(\"Country_Name\", \"Country_Code\", \"Pop_Density_per_sq_mi\")\n",
    "           .agg(sum(\"Total\").alias(\"total_agg\"))\n",
    "           )\n",
    "\n",
    "correlation = q3_work.stat.corr(\"total_agg\", \"Pop_Density_per_sq_mi\")\n",
    "\n",
    "print(correlation)"
   ]
  },
  {
   "cell_type": "markdown",
   "metadata": {},
   "source": [
    "#### Question 4\n",
    "Is there a correlation between GDP and winning gold medals?\n",
    "\n",
    "A: Yes, it is weak but significant. Note that the lack of integrity of the join undoubtedly impacted this result. "
   ]
  },
  {
   "cell_type": "code",
   "execution_count": 15,
   "metadata": {},
   "outputs": [
    {
     "name": "stdout",
     "output_type": "stream",
     "text": [
      "0.20548406822263218\n"
     ]
    }
   ],
   "source": [
    "q4_work = (df_denormalized\n",
    "           .groupBy(\"Country_Name\", \"Country_Code\", \"GDP_per_capita\")\n",
    "           .agg(sum(\"Gold\").alias(\"gold_total\"))\n",
    "           )\n",
    "\n",
    "correlation = q4_work.stat.corr(\"gold_total\", \"GDP_per_capita\")\n",
    "\n",
    "print(correlation)"
   ]
  },
  {
   "cell_type": "markdown",
   "metadata": {},
   "source": [
    "Despite this being a weak correlation, we can still measure if it is significant! Running a t-test to see how significant this value is.\n",
    "\n",
    "Given the value is below 0.05, we can say this is a significant correlation"
   ]
  },
  {
   "cell_type": "code",
   "execution_count": 16,
   "metadata": {},
   "outputs": [
    {
     "name": "stdout",
     "output_type": "stream",
     "text": [
      "P-value: 0.014704819101295286\n"
     ]
    }
   ],
   "source": [
    "import math\n",
    "\n",
    "# Function to compute the cumulative distribution function (CDF) of the t-distribution\n",
    "# Using an approximation based on the error function (erf), which is commonly used in statistics\n",
    "def t_cdf(t, df):\n",
    "    # Using the approximation of the CDF for the t-distribution\n",
    "    return 0.5 * (1 + math.erf(t / math.sqrt(2)))\n",
    "\n",
    "# Given values\n",
    "r = correlation # Correlation coefficient\n",
    "n = q4_work.count()   # Sample size\n",
    "\n",
    "# Calculate the t-statistic\n",
    "t_statistic = r * math.sqrt(n - 2) / math.sqrt(1 - r**2)\n",
    "\n",
    "# Degrees of freedom (n - 2)\n",
    "df = n - 2\n",
    "\n",
    "# Calculate the two-tailed p-value for the t-distribution\n",
    "# Multiply by 2 because it's a two-tailed test (for both positive and negative correlations)\n",
    "p_value = 2 * (1 - t_cdf(abs(t_statistic), df))\n",
    "\n",
    "# Output the results\n",
    "print(f\"P-value: {p_value}\")\n"
   ]
  }
 ],
 "metadata": {
  "kernelspec": {
   "display_name": "venv",
   "language": "python",
   "name": "python3"
  },
  "language_info": {
   "codemirror_mode": {
    "name": "ipython",
    "version": 3
   },
   "file_extension": ".py",
   "mimetype": "text/x-python",
   "name": "python",
   "nbconvert_exporter": "python",
   "pygments_lexer": "ipython3",
   "version": "3.10.9"
  }
 },
 "nbformat": 4,
 "nbformat_minor": 2
}
